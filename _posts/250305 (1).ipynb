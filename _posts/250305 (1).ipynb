{
 "cells": [
  {
   "cell_type": "markdown",
   "id": "d521ce5e-e801-4a0c-b68a-70b1947e65da",
   "metadata": {},
   "source": [
    "# **반복문과 조건문**"
   ]
  },
  {
   "cell_type": "markdown",
   "id": "344c0006-c19d-4d73-b3ea-e817cfa90e85",
   "metadata": {},
   "source": [
    "## **반복문**"
   ]
  },
  {
   "cell_type": "markdown",
   "id": "23bb826d-8dc0-461b-b7fb-c44021d002a1",
   "metadata": {},
   "source": [
    "* 반복문은 한 코드를 반복하는 코드로, 똑같은 코드를 여러 번 치지 않아 효율적이고, 수정과 유지보수에 용이함.\n",
    "* 자동화 작업이 가능함.\n",
    "* 배열 형태의 데이터를 분석하는 게 일반적이므로 행과 열이 여러 개 필요하게 됨. 그래서 반복문이 매우 효과적임.\n",
    "* 조건문과 섞어서 쓰므로 구문 실습에서 if문을 같이 다룰 것임."
   ]
  },
  {
   "cell_type": "markdown",
   "id": "150c4c0e-5e74-431f-9f68-18f820005a78",
   "metadata": {},
   "source": [
    "### **for**\n"
   ]
  },
  {
   "cell_type": "markdown",
   "id": "b38227a0-88c6-48a2-ab37-0013328033e5",
   "metadata": {},
   "source": [
    "* 자료형을 순회하면서 코드 블록을 반복적으로 실행한다.\n",
    "* range 함수는 순회 가능한 객체를 만들어주는 함수임.\n",
    "* range(strat, stop, step) 으로 슬라이싱과 구조가 비슷하다. strat는 기본이 1임.\n",
    "* if문과 함께 사용하기도 함.\n",
    "* 중첩 for문은 for문 안에 for문을 사용하는 사례임. \n",
    "* continue 문은 현재 반복을 종료하고 바로 다음 반복을 계속 진행하도록 하는 데 쓰임.\n",
    "* 리스트 컴프리헨션 -> 간결하게 새로운 리스트를 생성할 수 있는 방법. L = [표현식(변수) for 변수 in 반복가능 객체 if 조건]"
   ]
  },
  {
   "cell_type": "markdown",
   "id": "c94170a1-5c47-48ca-bd7a-5be96230f3ab",
   "metadata": {},
   "source": [
    "### for문 기초 실습 "
   ]
  },
  {
   "cell_type": "code",
   "execution_count": 8,
   "id": "a59abadd-7ae7-46cc-9b47-c7c22e1e793d",
   "metadata": {},
   "outputs": [
    {
     "name": "stdout",
     "output_type": "stream",
     "text": [
      "1\n",
      "2\n",
      "3\n",
      "4\n"
     ]
    }
   ],
   "source": [
    "for i in [1, 2, 3, 4]:\n",
    "    print(i)"
   ]
  },
  {
   "cell_type": "code",
   "execution_count": 12,
   "id": "6dfe5a43-9693-4003-8f05-fd003e70d323",
   "metadata": {},
   "outputs": [
    {
     "name": "stdout",
     "output_type": "stream",
     "text": [
      "1\n",
      "2\n",
      "3\n",
      "4\n",
      "5\n"
     ]
    }
   ],
   "source": [
    "for i in range(1, 6):\n",
    "    print(i)\n",
    "\n",
    "# 여기서 마지막 숫자의 자신은 나오지 않음을 주의하자. 슬라이싱과 같다."
   ]
  },
  {
   "cell_type": "code",
   "execution_count": 16,
   "id": "5dd51008-7dab-4a41-adf0-4c9af8f2208e",
   "metadata": {},
   "outputs": [
    {
     "name": "stdout",
     "output_type": "stream",
     "text": [
      "1\n",
      "4\n",
      "9\n",
      "16\n",
      "25\n",
      "36\n",
      "49\n",
      "64\n",
      "81\n",
      "100\n"
     ]
    }
   ],
   "source": [
    "for i in range(1, 11):\n",
    "    print(i**2)\n",
    "# 1부터 10까지의 제곱을 출력한다."
   ]
  },
  {
   "cell_type": "code",
   "execution_count": 18,
   "id": "c1cd392a-034e-4066-a8ce-7eff9927de8d",
   "metadata": {},
   "outputs": [
    {
     "name": "stdout",
     "output_type": "stream",
     "text": [
      "[1, 4, 9, 16, 25, 36, 49, 64, 81, 100]\n"
     ]
    }
   ],
   "source": [
    "L = []\n",
    "for i in range(1, 11):\n",
    "    L.append(i**2)\n",
    "print(L)"
   ]
  },
  {
   "cell_type": "code",
   "execution_count": 34,
   "id": "11841249-b934-42bd-bb22-26518c83c03c",
   "metadata": {},
   "outputs": [
    {
     "name": "stdout",
     "output_type": "stream",
     "text": [
      "2\n",
      "4\n",
      "6\n",
      "8\n",
      "10\n"
     ]
    }
   ],
   "source": [
    "for i in range(1, 11):\n",
    "    if i % 2 == 0:\n",
    "        print(i)\n",
    "#1과 10사이의 짝수만 출력 ->if문 활용"
   ]
  },
  {
   "cell_type": "code",
   "execution_count": 26,
   "id": "408a4030-590f-41eb-899e-ffdb29129450",
   "metadata": {},
   "outputs": [
    {
     "name": "stdout",
     "output_type": "stream",
     "text": [
      "6\n",
      "8\n",
      "7\n"
     ]
    }
   ],
   "source": [
    "numbers = [3, 6, 1, 8, 4, 7]\n",
    "for num in numbers:\n",
    "    if num > 5:\n",
    "        print(num)\n",
    "# 5보다 큰 수만 출력"
   ]
  },
  {
   "cell_type": "code",
   "execution_count": 28,
   "id": "c4b88d46-75ab-4900-a994-e6ed2ea7cb8e",
   "metadata": {},
   "outputs": [
    {
     "name": "stdout",
     "output_type": "stream",
     "text": [
      "e\n",
      "o\n",
      "o\n"
     ]
    }
   ],
   "source": [
    "text = \"Hello world\"\n",
    "for char in text:\n",
    "    if char in \"aeiou\":\n",
    "        print(char)\n",
    "#모음만 출력"
   ]
  },
  {
   "cell_type": "code",
   "execution_count": 30,
   "id": "556a4751-354c-447a-bf86-fc78e09c8e06",
   "metadata": {},
   "outputs": [],
   "source": [
    "s_text = ''\n",
    "text = \"Hello world\"\n",
    "for char in text:\n",
    "    if char in \"aeiou\":\n",
    "        s_text = s_text+char\n",
    "        #s_text += char과 같음\n"
   ]
  },
  {
   "cell_type": "code",
   "execution_count": 32,
   "id": "699f8a85-3657-441b-bed0-c9c56a0a061f",
   "metadata": {},
   "outputs": [
    {
     "data": {
      "text/plain": [
       "'eoo'"
      ]
     },
     "execution_count": 32,
     "metadata": {},
     "output_type": "execute_result"
    }
   ],
   "source": [
    "s_text"
   ]
  },
  {
   "cell_type": "markdown",
   "id": "5e582a91-962c-44c5-a534-28f7fc650251",
   "metadata": {},
   "source": [
    "### 중첩 for문"
   ]
  },
  {
   "cell_type": "code",
   "execution_count": 39,
   "id": "246b7c5c-547f-4152-a94f-af33ebdb09a4",
   "metadata": {},
   "outputs": [
    {
     "name": "stdout",
     "output_type": "stream",
     "text": [
      "[1, 2]\n",
      "1\n",
      "2\n",
      "[3, 4]\n",
      "3\n",
      "4\n",
      "[5, 6]\n",
      "5\n",
      "6\n"
     ]
    }
   ],
   "source": [
    "matrix = [1, 2], [3, 4], [5, 6]\n",
    "for row in matrix:\n",
    "    print(row)\n",
    "    for element in row:\n",
    "        print(element)"
   ]
  },
  {
   "cell_type": "code",
   "execution_count": 45,
   "id": "18acc4ae-8a19-4246-8643-07d9dd2588a3",
   "metadata": {},
   "outputs": [
    {
     "name": "stdout",
     "output_type": "stream",
     "text": [
      "1^1 = 1\n",
      "1^2 = 1\n",
      "1^3 = 1\n",
      "1^4 = 1\n",
      "1^5 = 1\n",
      "1^6 = 1\n",
      "1^7 = 1\n",
      "1^8 = 1\n",
      "1^9 = 1\n",
      "1^10 = 1\n",
      "2^1 = 2\n",
      "2^2 = 4\n",
      "2^3 = 8\n",
      "2^4 = 16\n",
      "2^5 = 32\n",
      "2^6 = 64\n",
      "2^7 = 128\n",
      "2^8 = 256\n",
      "2^9 = 512\n",
      "2^10 = 1024\n",
      "3^1 = 3\n",
      "3^2 = 9\n",
      "3^3 = 27\n",
      "3^4 = 81\n",
      "3^5 = 243\n",
      "3^6 = 729\n",
      "3^7 = 2187\n",
      "3^8 = 6561\n",
      "3^9 = 19683\n",
      "3^10 = 59049\n",
      "4^1 = 4\n",
      "4^2 = 16\n",
      "4^3 = 64\n",
      "4^4 = 256\n",
      "4^5 = 1024\n",
      "4^6 = 4096\n",
      "4^7 = 16384\n",
      "4^8 = 65536\n",
      "4^9 = 262144\n",
      "4^10 = 1048576\n",
      "5^1 = 5\n",
      "5^2 = 25\n",
      "5^3 = 125\n",
      "5^4 = 625\n",
      "5^5 = 3125\n",
      "5^6 = 15625\n",
      "5^7 = 78125\n",
      "5^8 = 390625\n",
      "5^9 = 1953125\n",
      "5^10 = 9765625\n",
      "6^1 = 6\n",
      "6^2 = 36\n",
      "6^3 = 216\n",
      "6^4 = 1296\n",
      "6^5 = 7776\n",
      "6^6 = 46656\n",
      "6^7 = 279936\n",
      "6^8 = 1679616\n",
      "6^9 = 10077696\n",
      "6^10 = 60466176\n",
      "7^1 = 7\n",
      "7^2 = 49\n",
      "7^3 = 343\n",
      "7^4 = 2401\n",
      "7^5 = 16807\n",
      "7^6 = 117649\n",
      "7^7 = 823543\n",
      "7^8 = 5764801\n",
      "7^9 = 40353607\n",
      "7^10 = 282475249\n",
      "8^1 = 8\n",
      "8^2 = 64\n",
      "8^3 = 512\n",
      "8^4 = 4096\n",
      "8^5 = 32768\n",
      "8^6 = 262144\n",
      "8^7 = 2097152\n",
      "8^8 = 16777216\n",
      "8^9 = 134217728\n",
      "8^10 = 1073741824\n",
      "9^1 = 9\n",
      "9^2 = 81\n",
      "9^3 = 729\n",
      "9^4 = 6561\n",
      "9^5 = 59049\n",
      "9^6 = 531441\n",
      "9^7 = 4782969\n",
      "9^8 = 43046721\n",
      "9^9 = 387420489\n",
      "9^10 = 3486784401\n",
      "10^1 = 10\n",
      "10^2 = 100\n",
      "10^3 = 1000\n",
      "10^4 = 10000\n",
      "10^5 = 100000\n",
      "10^6 = 1000000\n",
      "10^7 = 10000000\n",
      "10^8 = 100000000\n",
      "10^9 = 1000000000\n",
      "10^10 = 10000000000\n"
     ]
    }
   ],
   "source": [
    "for i in range(1, 11):\n",
    "    for j in range(1, 11):\n",
    "        print(f'{i}^{j} = {i**j}')\n",
    "# j가 다 돌면 i가 바뀌는 것을 볼 수 있음. 이건 제곱이고, 구구단 연산도 할 수 있게됨.\n",
    "# f'  ' 는 f스트링이라는 것임. 스트링에 변수를 넣어서 작성할 수 있게됨."
   ]
  },
  {
   "cell_type": "code",
   "execution_count": 49,
   "id": "210dec1f-af9d-49c9-ba0e-851e46508525",
   "metadata": {},
   "outputs": [
    {
     "name": "stdout",
     "output_type": "stream",
     "text": [
      "1X1 = 1\n",
      "1X2 = 2\n",
      "1X3 = 3\n",
      "1X4 = 4\n",
      "1X5 = 5\n",
      "1X6 = 6\n",
      "1X7 = 7\n",
      "1X8 = 8\n",
      "1X9 = 9\n",
      "2X1 = 2\n",
      "2X2 = 4\n",
      "2X3 = 6\n",
      "2X4 = 8\n",
      "2X5 = 10\n",
      "2X6 = 12\n",
      "2X7 = 14\n",
      "2X8 = 16\n",
      "2X9 = 18\n",
      "3X1 = 3\n",
      "3X2 = 6\n",
      "3X3 = 9\n",
      "3X4 = 12\n",
      "3X5 = 15\n",
      "3X6 = 18\n",
      "3X7 = 21\n",
      "3X8 = 24\n",
      "3X9 = 27\n",
      "4X1 = 4\n",
      "4X2 = 8\n",
      "4X3 = 12\n",
      "4X4 = 16\n",
      "4X5 = 20\n",
      "4X6 = 24\n",
      "4X7 = 28\n",
      "4X8 = 32\n",
      "4X9 = 36\n",
      "5X1 = 5\n",
      "5X2 = 10\n",
      "5X3 = 15\n",
      "5X4 = 20\n",
      "5X5 = 25\n",
      "5X6 = 30\n",
      "5X7 = 35\n",
      "5X8 = 40\n",
      "5X9 = 45\n",
      "6X1 = 6\n",
      "6X2 = 12\n",
      "6X3 = 18\n",
      "6X4 = 24\n",
      "6X5 = 30\n",
      "6X6 = 36\n",
      "6X7 = 42\n",
      "6X8 = 48\n",
      "6X9 = 54\n",
      "7X1 = 7\n",
      "7X2 = 14\n",
      "7X3 = 21\n",
      "7X4 = 28\n",
      "7X5 = 35\n",
      "7X6 = 42\n",
      "7X7 = 49\n",
      "7X8 = 56\n",
      "7X9 = 63\n",
      "8X1 = 8\n",
      "8X2 = 16\n",
      "8X3 = 24\n",
      "8X4 = 32\n",
      "8X5 = 40\n",
      "8X6 = 48\n",
      "8X7 = 56\n",
      "8X8 = 64\n",
      "8X9 = 72\n",
      "9X1 = 9\n",
      "9X2 = 18\n",
      "9X3 = 27\n",
      "9X4 = 36\n",
      "9X5 = 45\n",
      "9X6 = 54\n",
      "9X7 = 63\n",
      "9X8 = 72\n",
      "9X9 = 81\n"
     ]
    }
   ],
   "source": [
    "for i in range(1, 10):\n",
    "    for j in range(1, 10):\n",
    "        print(f'{i}X{j} = {i*j}')"
   ]
  },
  {
   "cell_type": "markdown",
   "id": "18bbac27-0ef1-41d2-8cda-786b01d27903",
   "metadata": {},
   "source": [
    "### continue문을 활용한 for문 작성"
   ]
  },
  {
   "cell_type": "code",
   "execution_count": 52,
   "id": "9f4590f7-7345-4d08-aced-45a09bf89885",
   "metadata": {},
   "outputs": [
    {
     "name": "stdout",
     "output_type": "stream",
     "text": [
      "1\n",
      "3\n",
      "5\n",
      "7\n",
      "9\n"
     ]
    }
   ],
   "source": [
    "# 1과 10 사이의 홀수만 출력\n",
    "for i in range(1, 11):\n",
    "    if i % 2 ==0:\n",
    "        continue\n",
    "    print(i)"
   ]
  },
  {
   "cell_type": "code",
   "execution_count": 79,
   "id": "d0dd1f91-6218-4a1f-b040-edc0315769e4",
   "metadata": {},
   "outputs": [
    {
     "name": "stdout",
     "output_type": "stream",
     "text": [
      "1\n",
      "3\n",
      "5\n",
      "7\n",
      "9\n"
     ]
    }
   ],
   "source": [
    "for i in range(1, 11):\n",
    "    if i % 2 == 1:\n",
    "        print(i)\n",
    "        #사실은 이 코드가 더 짧고 좋은 코드이나 위는 이해를 위하여 함."
   ]
  },
  {
   "cell_type": "markdown",
   "id": "4e1c995c-8be6-41bc-8b4f-9ddbec80c479",
   "metadata": {},
   "source": [
    "### 리스트 컴프리헨션 실습"
   ]
  },
  {
   "cell_type": "code",
   "execution_count": 100,
   "id": "7ef008f1-1464-41a5-bd07-fb8c1c23fd8e",
   "metadata": {},
   "outputs": [],
   "source": [
    "squares1 = []"
   ]
  },
  {
   "cell_type": "code",
   "execution_count": 102,
   "id": "89212cf8-f843-4914-bf09-c587b8a7e52b",
   "metadata": {},
   "outputs": [
    {
     "name": "stdout",
     "output_type": "stream",
     "text": [
      "[1, 4, 9, 16, 25]\n"
     ]
    }
   ],
   "source": [
    "for x in range(1, 6):\n",
    "    squares1.append(x**2)\n",
    "print(squares1)\n",
    "\n",
    "#이런 if구문을..."
   ]
  },
  {
   "cell_type": "code",
   "execution_count": 77,
   "id": "96841ae0-a6e3-4275-b932-9022f3cc5b8d",
   "metadata": {},
   "outputs": [
    {
     "data": {
      "text/plain": [
       "[4, 16]"
      ]
     },
     "execution_count": 77,
     "metadata": {},
     "output_type": "execute_result"
    }
   ],
   "source": [
    "squares2 = [x**2 for x in range(1, 6) if x % 2 == 0]\n",
    "\n",
    "squares2\n",
    "## 이렇게 쓸 수 있다! (if구문은 위 식에 없었으나 구문 전체 이해를 돕기 위하여 따로 적음. 짝수에 대해서만 나옴.)"
   ]
  },
  {
   "cell_type": "code",
   "execution_count": 71,
   "id": "cceb922c-c048-4a2c-8fce-775202ad96ce",
   "metadata": {},
   "outputs": [
    {
     "data": {
      "text/plain": [
       "[1, 4, 9, 16, 25]"
      ]
     },
     "execution_count": 71,
     "metadata": {},
     "output_type": "execute_result"
    }
   ],
   "source": [
    "# 위 식 그대로 따오기\n",
    "squares3 = [x**2 for x in range(1, 6)]\n",
    "\n",
    "squares3"
   ]
  },
  {
   "cell_type": "code",
   "execution_count": 75,
   "id": "ad432057-d0f3-43be-b4c5-735e581a8289",
   "metadata": {},
   "outputs": [
    {
     "name": "stdout",
     "output_type": "stream",
     "text": [
      "[1, 4, 9, 16, 25]\n",
      "[1, 4, 9, 16, 25]\n"
     ]
    }
   ],
   "source": [
    "print(squares1)\n",
    "print(squares3)\n",
    "\n",
    "#결과가 같음을 확인할 수 있다."
   ]
  },
  {
   "cell_type": "code",
   "execution_count": 83,
   "id": "774869b0-7e54-482b-987c-d68beec838d0",
   "metadata": {},
   "outputs": [
    {
     "name": "stdout",
     "output_type": "stream",
     "text": [
      "['H', 'W']\n",
      "HW\n"
     ]
    }
   ],
   "source": [
    "text = \"Hello World\"\n",
    "uppercase_letters = [char for char in text if char.isupper()]\n",
    "print(uppercase_letters)\n",
    "print(''.join(uppercase_letters))\n",
    "#대문자만 출력하여 문자열 join (append와는 다르다. append는 리스트에 추가하는 것이고 join은 합치는 것이다.)"
   ]
  },
  {
   "cell_type": "markdown",
   "id": "8402223d-9b20-4c0e-a753-091f756763e8",
   "metadata": {},
   "source": [
    "### While문"
   ]
  },
  {
   "cell_type": "markdown",
   "id": "e2ab4fb2-b075-4430-a681-215e872c9ae9",
   "metadata": {},
   "source": [
    "* 조건이 참(True)인 동안 코드를 반복해서 실행하는 제어문\n",
    "* 조건에 만족하지 않게 되면 자동으로 반복문을 빠져나옴.\n",
    "* 그러나 조건에 계속 만족하게 되면 무한루프에 빠지게 됨.(참이면 영원히 반복함.)\n",
    "* 그래서 break문을 추가할 수 있음. 반복문 바깥의 코드를 실행하게 됨."
   ]
  },
  {
   "cell_type": "code",
   "execution_count": 107,
   "id": "4135537b-eba4-424c-a5b1-7e09445cb6d2",
   "metadata": {},
   "outputs": [
    {
     "name": "stdout",
     "output_type": "stream",
     "text": [
      "1\n",
      "2\n",
      "3\n",
      "4\n",
      "5\n",
      "6\n",
      "7\n",
      "8\n",
      "9\n",
      "10\n"
     ]
    }
   ],
   "source": [
    "r = 1 #for문과 달리 변수 초기화가 꼭 필요함. (for은 기본이 1로 고정)\n",
    "while r <= 10:\n",
    "    print(r)\n",
    "    r += 1"
   ]
  },
  {
   "cell_type": "code",
   "execution_count": 121,
   "id": "1f3b9619-ecc4-4685-8000-9cd9cb8b76e9",
   "metadata": {},
   "outputs": [
    {
     "name": "stdout",
     "output_type": "stream",
     "text": [
      "Python    is easy to    learn\n"
     ]
    }
   ],
   "source": [
    "# 연속 공백 없애기\n",
    "\n",
    "s = 'Python    is easy to    learn'\n",
    "print(s)"
   ]
  },
  {
   "cell_type": "code",
   "execution_count": 119,
   "id": "f043d98c-3286-4421-adad-546a8c07d62e",
   "metadata": {},
   "outputs": [
    {
     "name": "stdout",
     "output_type": "stream",
     "text": [
      "Python  is easy to  learn\n"
     ]
    }
   ],
   "source": [
    "print(s.replace(' '*2, ' '))\n",
    "#그냥 두 개 없애고 끝내버림. 공백은 4개인데"
   ]
  },
  {
   "cell_type": "code",
   "execution_count": 123,
   "id": "5c7e1a33-6fa2-4467-baa8-92c024ba0aba",
   "metadata": {},
   "outputs": [
    {
     "name": "stdout",
     "output_type": "stream",
     "text": [
      "Python is easy to learn\n"
     ]
    }
   ],
   "source": [
    "while ' ' *2 in s:\n",
    "    s = s.replace(' '*2, ' ')\n",
    "print(s)"
   ]
  },
  {
   "cell_type": "markdown",
   "id": "999d84ff-0fbf-4c2b-806f-852c73fc95c6",
   "metadata": {},
   "source": [
    "### 무한루프와 break"
   ]
  },
  {
   "cell_type": "code",
   "execution_count": null,
   "id": "addfe5ab-3e08-4b30-a855-d1a6d2e0668a",
   "metadata": {},
   "outputs": [],
   "source": [
    "i = 1\n",
    "while i > 0:\n",
    "    i += 1\n",
    "    if i % 10000 == 0:\n",
    "        print(i)\n",
    "\n",
    "#while문을 만족하므로 끝없이 루프함.\n",
    "#Kernel에서 정지 버튼(Intterupt the Kernel)을 누르면 강제 종료 가능"
   ]
  },
  {
   "cell_type": "code",
   "execution_count": 136,
   "id": "9ded27e1-942f-4348-a9b5-7dbab422b369",
   "metadata": {},
   "outputs": [
    {
     "name": "stdin",
     "output_type": "stream",
     "text": [
      "출력 문자열 1234\n"
     ]
    }
   ],
   "source": [
    "# 사용자 입력을 받아 \"stop\"을 입력하면 종료하기\n",
    "#input(\"입력 시 같이 출력되는 문자열\")은 사용자 입력을 받을 수 있음.\n",
    "\n",
    "command = input(\"출력 문자열\")"
   ]
  },
  {
   "cell_type": "code",
   "execution_count": 138,
   "id": "499404b5-700c-45b2-a319-f930c324b41e",
   "metadata": {},
   "outputs": [
    {
     "data": {
      "text/plain": [
       "'1234'"
      ]
     },
     "execution_count": 138,
     "metadata": {},
     "output_type": "execute_result"
    }
   ],
   "source": [
    "command"
   ]
  },
  {
   "cell_type": "code",
   "execution_count": 123,
   "id": "a6725c08-a1b5-4aff-aa34-28931bc855c7",
   "metadata": {},
   "outputs": [
    {
     "name": "stdin",
     "output_type": "stream",
     "text": [
      "명령을 입력하세요 ('stop'입력 시 종료): dfd\n",
      "명령을 입력하세요 ('stop'입력 시 종료): df\n",
      "명령을 입력하세요 ('stop'입력 시 종료): stop\n"
     ]
    },
    {
     "name": "stdout",
     "output_type": "stream",
     "text": [
      "프로그램을 종료합니다.\n"
     ]
    }
   ],
   "source": [
    "while True:\n",
    "    command = input(\"명령을 입력하세요 ('stop'입력 시 종료):\")\n",
    "    if command == \"stop\":\n",
    "        print(\"프로그램을 종료합니다.\")\n",
    "        break"
   ]
  },
  {
   "cell_type": "code",
   "execution_count": 146,
   "id": "0c874adc-fb3d-41bb-99e1-64f164f33f7f",
   "metadata": {},
   "outputs": [
    {
     "name": "stdout",
     "output_type": "stream",
     "text": [
      "5050\n"
     ]
    }
   ],
   "source": [
    "#데일리 원미션\n",
    "sum = 0\n",
    "for i in range(1, 101):\n",
    "    sum += i\n",
    "print(sum)"
   ]
  },
  {
   "cell_type": "markdown",
   "id": "43c7856d-b7c2-4c84-a897-ef9feb612c8b",
   "metadata": {},
   "source": [
    "# **함수**"
   ]
  },
  {
   "cell_type": "markdown",
   "id": "3521af75-e995-4445-961f-7090f9b16ee0",
   "metadata": {},
   "source": [
    "* 함수는 재사용 가능한 코드 블록으로, 특정 작업을 수행하기 위하여 설계된 코드 모음임.\n",
    "* 코드 재사용이 가능하고 중복되는 코드 최소화, 모듈화(프로그램을 작은 단위로 나누는 것) 가능.\n",
    "* 따라서 유지 보수와 오류 찾기에 용이하다.\n",
    "* 함수는 def로 정의됨. 매개변수, 실행문, 반환값으로 구성됨."
   ]
  },
  {
   "cell_type": "code",
   "execution_count": 155,
   "id": "294fe880-094e-4bc8-9ab4-8847c51cab3a",
   "metadata": {},
   "outputs": [
    {
     "name": "stdout",
     "output_type": "stream",
     "text": [
      "hello\n"
     ]
    }
   ],
   "source": [
    "# 예제\n",
    "def greeting():\n",
    "    print(\"hello\")\n",
    "#매개변수도 없고 출력도 없는 형태로 출력은 문자열이 아닌 None 자료형이 됨. (아무것도 아님.)\n",
    "\n",
    "greeting()"
   ]
  },
  {
   "cell_type": "code",
   "execution_count": 161,
   "id": "a5523324-47dd-4f70-bd12-66a9ad6495d7",
   "metadata": {},
   "outputs": [],
   "source": [
    "# 함수 내에서 정의된 변수인 로컬 변수는 함수 내부에서만 유효하며, 함수 외부에서는 접근 할 수 없다.\n",
    "def cal_area(length, width):\n",
    "    area = length*width\n",
    "    return area"
   ]
  },
  {
   "cell_type": "code",
   "execution_count": 163,
   "id": "3ada47a9-53d6-40e7-b06f-77c6388e2d90",
   "metadata": {},
   "outputs": [
    {
     "name": "stdout",
     "output_type": "stream",
     "text": [
      "15\n"
     ]
    }
   ],
   "source": [
    "print(cal_area(3, 5))"
   ]
  },
  {
   "cell_type": "code",
   "execution_count": 165,
   "id": "715b6608-77db-43fb-b3d4-0da0819dd16c",
   "metadata": {},
   "outputs": [
    {
     "ename": "NameError",
     "evalue": "name 'area' is not defined",
     "output_type": "error",
     "traceback": [
      "\u001b[1;31m---------------------------------------------------------------------------\u001b[0m",
      "\u001b[1;31mNameError\u001b[0m                                 Traceback (most recent call last)",
      "Cell \u001b[1;32mIn[165], line 1\u001b[0m\n\u001b[1;32m----> 1\u001b[0m \u001b[38;5;28mprint\u001b[39m(area)\n",
      "\u001b[1;31mNameError\u001b[0m: name 'area' is not defined"
     ]
    }
   ],
   "source": [
    "print(area)\n",
    "\n",
    "#함수 외부에서 접근할 수 없음.\n",
    "# NameError: name 'area' is not defined 발생."
   ]
  },
  {
   "cell_type": "code",
   "execution_count": 184,
   "id": "41d6293c-1055-4c6e-9f68-f2819a9d39ee",
   "metadata": {},
   "outputs": [],
   "source": [
    "# 중복 제거 함수\n",
    "def Del_Dupe(L):\n",
    "    set_L = set(L)\n",
    "    output = list(set_L)\n",
    "    return output"
   ]
  },
  {
   "cell_type": "code",
   "execution_count": 186,
   "id": "a6c88834-b382-494c-b5f4-f5ddf60517fd",
   "metadata": {},
   "outputs": [
    {
     "name": "stdout",
     "output_type": "stream",
     "text": [
      "[1, 2, 3, 4, 5]\n"
     ]
    }
   ],
   "source": [
    "print(Del_Dupe([1, 1, 1, 1, 2, 3, 3, 4, 4, 5]))"
   ]
  },
  {
   "cell_type": "code",
   "execution_count": 231,
   "id": "e232741c-ca56-4aad-a115-657ee044add7",
   "metadata": {},
   "outputs": [],
   "source": [
    "# 미성년자와 성인 판별 함수\n",
    "def Check_Age(age):\n",
    " try:\n",
    "    if age < 18:\n",
    "        return \"미성년자 입니다.\"\n",
    "    else:\n",
    "        return \"성인 입니다.\"\n",
    " except:\n",
    "    return \"올바른 나이를 입력해 주십시오.\"\n",
    "\n",
    "# 문자열 출력할때 print 함수 안 써도 된다. 그냥 리턴 옆에 문자열 적어도 무방하다.\n",
    "# 리턴값을 print함수로 하면 print에 이 함수를 넣지 못하게 된다.\n",
    "# 예외 처리도 포함해서 만들어 보았다."
   ]
  },
  {
   "cell_type": "code",
   "execution_count": 229,
   "id": "44d9e080-378a-4a1c-a89c-e18834cb5238",
   "metadata": {},
   "outputs": [
    {
     "name": "stdout",
     "output_type": "stream",
     "text": [
      "미성년자 입니다.\n",
      "성인 입니다.\n",
      "올바른 나이를 입력해 주십시오.\n"
     ]
    }
   ],
   "source": [
    "print(Check_Age(5))\n",
    "print(Check_Age(55))\n",
    "print(Check_Age('ㅇ'))"
   ]
  },
  {
   "cell_type": "code",
   "execution_count": 233,
   "id": "15f32e24-c1c4-4254-95b2-add549c1e201",
   "metadata": {},
   "outputs": [],
   "source": [
    "# 문자열 전처리 함수(연속 공백 제거, 소문자 변환)\n",
    "def preprocess_text(text):\n",
    "    # 연속된 공백을 하나로 축소\n",
    "    while ' ' * 2 in text:\n",
    "        text = text.replace(' ' * 2, ' ')\n",
    "    # 대문자를 소문자로 변환\n",
    "    return text.lower().strip()"
   ]
  },
  {
   "cell_type": "code",
   "execution_count": 235,
   "id": "d75e35ef-dde5-4add-8541-4ebb4a142fb3",
   "metadata": {},
   "outputs": [
    {
     "name": "stdout",
     "output_type": "stream",
     "text": [
      "python is fun\n"
     ]
    }
   ],
   "source": [
    "sample = \"  PYTHON   is   FUN   \"\n",
    "print(preprocess_text(sample))  # 출력: python is fun"
   ]
  },
  {
   "cell_type": "code",
   "execution_count": 237,
   "id": "20095045-fdc4-4f70-aa40-85406e8add09",
   "metadata": {},
   "outputs": [],
   "source": [
    "# 출력이 없는 함수\n",
    "def say_hello():\n",
    "    print(\"Hello World!\")"
   ]
  },
  {
   "cell_type": "code",
   "execution_count": 239,
   "id": "66f1e2a6-08fb-4c20-93a8-384daa6c9789",
   "metadata": {},
   "outputs": [
    {
     "name": "stdout",
     "output_type": "stream",
     "text": [
      "Hello World!\n"
     ]
    }
   ],
   "source": [
    "say_hello()"
   ]
  },
  {
   "cell_type": "code",
   "execution_count": 241,
   "id": "d74e400a-44f7-4941-97bb-8deee67d2a8b",
   "metadata": {},
   "outputs": [
    {
     "name": "stdout",
     "output_type": "stream",
     "text": [
      "Hello World!\n"
     ]
    }
   ],
   "source": [
    "output = say_hello()"
   ]
  },
  {
   "cell_type": "code",
   "execution_count": 245,
   "id": "ca801832-67f4-4a54-a65b-7874863d133b",
   "metadata": {},
   "outputs": [
    {
     "name": "stdout",
     "output_type": "stream",
     "text": [
      "None\n",
      "<class 'NoneType'>\n"
     ]
    }
   ],
   "source": [
    "print(output) # None: 파이썬에서 값이 없음을 나타내는 객체\n",
    "print(type(output)) \n",
    "\n",
    "#None이 나오는 것을 알 수 있음."
   ]
  },
  {
   "cell_type": "markdown",
   "id": "c1acaa40-197f-45c1-834b-ede026298f62",
   "metadata": {},
   "source": [
    "## **기본값**"
   ]
  },
  {
   "cell_type": "markdown",
   "id": "678f68da-3d6b-4afe-9ee3-f744f7b137ca",
   "metadata": {},
   "source": [
    " * 함수에 인자가 전달되지 않았을 떄 사용할 값을 미리 설정하는 기능\n",
    " * 매개변수에 기본값을 지정하면 함수 호줄 시 해당 인자를 생략할 수 있다.\n",
    " * 기본값이 있는 매개변수는 반드시 기본값이 없는 매개변수 뒤에 위치해야 한다.\n",
    " *  -> 문법적으로 구분할 수 있는 방법이 없어서 기본값은 항상 앞에 기술한다."
   ]
  },
  {
   "cell_type": "code",
   "execution_count": null,
   "id": "58da1952-9ca3-464b-b98c-11ce0c251caa",
   "metadata": {},
   "outputs": [],
   "source": [
    "def greet(name=\"Guest\"):\n",
    "    return f\"Hello, {name}!\"\n",
    "\n",
    "print(greet())          # 기본값 사용: \"Hello, Guest!\"\n",
    "print(greet(\"Alice\"))   # 기본값 덮어쓰기: \"Hello, Alice!\""
   ]
  },
  {
   "cell_type": "code",
   "execution_count": null,
   "id": "4a4fa5d2-e791-4a3f-a19e-407a96312b88",
   "metadata": {},
   "outputs": [],
   "source": [
    "def calculate_area(width, height=10):\n",
    "    return width * height\n",
    "\n",
    "print(calculate_area(5))           # 기본값 사용: 50\n",
    "print(calculate_area(5, 20))       # 기본값 덮어쓰기: 100"
   ]
  },
  {
   "cell_type": "code",
   "execution_count": null,
   "id": "107e2bc5-8885-4acc-b659-234fdbebdb78",
   "metadata": {},
   "outputs": [],
   "source": []
  },
  {
   "cell_type": "markdown",
   "id": "d399dfba-3161-40f7-9000-352bcb065d54",
   "metadata": {},
   "source": [
    "## **가변 인자**"
   ]
  },
  {
   "cell_type": "markdown",
   "id": "a0a73b2d-a514-42b8-80e9-5106394efcac",
   "metadata": {},
   "source": [
    "* 함수가 동적인 수를 받게 하는 가변 인자는 매개 변수 개수를 알 수 없을 때 사용한다.\n",
    "* 위치 기반 가변 인자 *args -> 임의 개수의 위치 인자를 튜플로 처리 (예: (3, 4))\n",
    "* 키워드 기반 가변인자 **kwargs -> 임의 개수의 키워드 인자를 딕셔너리로 처리"
   ]
  },
  {
   "cell_type": "code",
   "execution_count": 293,
   "id": "3bef1934-694e-44b7-bacc-56c4c4687d46",
   "metadata": {},
   "outputs": [
    {
     "name": "stdout",
     "output_type": "stream",
     "text": [
      "6\n",
      "6000\n"
     ]
    }
   ],
   "source": [
    "# *args\n",
    "def multiply_all(*args):\n",
    "    output = 1 # 초기화, 저장할 변수 지정. 몇개 들어올지 알 수 없으니까 출력을 output이라는 걸로 하는것임.\n",
    "    for arg in args:\n",
    "        output = output * arg\n",
    "    return output\n",
    "\n",
    "print(multiply_all(1, 2, 3))    # 6\n",
    "print(multiply_all(10, 20, 30)) # 6000"
   ]
  },
  {
   "cell_type": "code",
   "execution_count": 282,
   "id": "8e6b3ee6-b2eb-4233-abd8-f13bb246132f",
   "metadata": {},
   "outputs": [
    {
     "name": "stdout",
     "output_type": "stream",
     "text": [
      "name: Gil\n",
      "age: 20\n",
      "job: Data Scientist\n"
     ]
    }
   ],
   "source": [
    "# **kargs\n",
    "\n",
    "def print_info(**info):\n",
    " for key, value in info.items(): # 키, 벨류값을 item()으로 뽑고 print()로 출력할 것이다\n",
    "     print(f\"{key}: {value}\")\n",
    "print_info(name=\"Gil\", age=20, job=\"Data Scientist\")"
   ]
  },
  {
   "cell_type": "code",
   "execution_count": 295,
   "id": "03633eac-1f45-40d3-8532-405597bffc42",
   "metadata": {},
   "outputs": [
    {
     "name": "stdout",
     "output_type": "stream",
     "text": [
      "['Alice', 'Charlie']\n"
     ]
    }
   ],
   "source": [
    "#시험에 합격한 인원만 출력한다.\n",
    "\n",
    "def evaluate_scores(**scores):\n",
    "    passed_people = []\n",
    "    for name, score in scores.items():\n",
    "        if score > 60:\n",
    "            passed_people.append(name)\n",
    "    return passed_people\n",
    "print(evaluate_scores(Alice=90, Bob=45, Charlie=75))"
   ]
  },
  {
   "cell_type": "code",
   "execution_count": 299,
   "id": "8b363e26-955f-4286-86a8-48c6f66bcae4",
   "metadata": {},
   "outputs": [
    {
     "name": "stdout",
     "output_type": "stream",
     "text": [
      "['Alice', 'Charlie']\n"
     ]
    }
   ],
   "source": [
    "passed_people = [name for name, score in {'Alice':90, 'Bob':45, 'Charlie':75}.items() if score > 60]\n",
    "print(passed_people)\n",
    "\n",
    "# 리스트 컴프리헨션으로 정리"
   ]
  },
  {
   "cell_type": "markdown",
   "id": "e1199511-e9b3-4fb7-b0c2-464f6ca4b42c",
   "metadata": {},
   "source": [
    "## **람다 함수**"
   ]
  },
  {
   "cell_type": "markdown",
   "id": "4b199323-430f-4d5c-a569-cd78c8d6b09e",
   "metadata": {},
   "source": [
    "* 일회성으로 필요한 함수를 간편하게 만들 때 사용.\n",
    "* 불필요하게 함수 정의할 필요가 없고 한 줄로 쓸 수 있어 코드가 간단해짐."
   ]
  },
  {
   "cell_type": "code",
   "execution_count": 301,
   "id": "07c27e8a-d87e-4efb-bf93-fb778848ce28",
   "metadata": {},
   "outputs": [
    {
     "name": "stdout",
     "output_type": "stream",
     "text": [
      "[2, 4, 6, 8]\n"
     ]
    }
   ],
   "source": [
    "#map 과 함께 사용\n",
    "numbers = [1, 2, 3, 4]\n",
    "result = map(lambda x: x * 2, numbers)\n",
    "print(list(result))  # [2, 4, 6, 8]"
   ]
  },
  {
   "cell_type": "code",
   "execution_count": 303,
   "id": "a549553a-1c41-4ec6-bdaf-9f35c31b4730",
   "metadata": {},
   "outputs": [
    {
     "name": "stdout",
     "output_type": "stream",
     "text": [
      "['Bob', 'Alice', 'Charlie']\n"
     ]
    }
   ],
   "source": [
    "# 정렬 키로 사용\n",
    "names = [\"Alice\", \"Bob\", \"Charlie\"]\n",
    "sorted_names = sorted(names, key=lambda x: len(x))\n",
    "print(sorted_names)  # ['Bob', 'Alice', 'Charlie']"
   ]
  },
  {
   "cell_type": "markdown",
   "id": "51e03696-ea7f-46ab-80cc-0ea2ab520f24",
   "metadata": {},
   "source": [
    "# **파일 입출력**"
   ]
  },
  {
   "cell_type": "markdown",
   "id": "1d2dc27e-fb64-444a-b4f3-85a97c0e1299",
   "metadata": {},
   "source": [
    "## open"
   ]
  },
  {
   "cell_type": "markdown",
   "id": "31f4b83a-9158-4739-ac8f-78c38a3f0c3c",
   "metadata": {},
   "source": [
    "open()은 파일을 열기 위해 사용한다.\n",
    "* ‘r’: 읽기 모드 (기본값, 파일이 없으면 오류가 발생)\n",
    "* ‘w’: 쓰기 모드 (파일이 없으면 생성, 있으면 덮어씀)\n",
    "* ‘a’: 추가 모드 (파일이 없으면 생성, 있으면 덧붙임)\n",
    "* ‘b’: 바이너리 모드 (주로 파이썬 객체 자체를 핸들링할 때 사용)\n",
    "* 주의 : 사용한 뒤에는 반드시 close()로 닫아줘야 한다."
   ]
  },
  {
   "cell_type": "code",
   "execution_count": 310,
   "id": "4df04593-d484-465c-9504-eab7b75e1fa9",
   "metadata": {},
   "outputs": [],
   "source": [
    "# 예시 - 파일을 읽기 모드로 열기\n",
    "# file = open(\"example.txt\", \"r\")\n",
    "# file.close()"
   ]
  },
  {
   "cell_type": "markdown",
   "id": "830b2054-c4fc-4b85-b657-7d9f5b3dd39b",
   "metadata": {},
   "source": [
    "open()과 같이 사용하는 함수는 아래와 같다.<br/>\n",
    "* read(): 파일 전체 내용을 한 번에 읽기\n",
    "    * 파일이 매우 클 경우, 전체 파일을 한 번에 읽어오는 read()는 메모리 사용량이 커질 수 있다.\n",
    "* readline(): 파일에서 한 줄씩 읽어오는 함수\n",
    "    * 반환 값은 한 줄씩 읽은 문자열이며, 파일 끝에 도달하면 빈 문자열 \"\"을 반환한다.\n",
    "* readlines(): 파일의 모든 줄을 읽어 리스트로 반환하며, 각 줄은 리스트의 한 요소로 저장된다.\n",
    "* write(): 파일에 문자열을 쓰기\n",
    "* writelines(): 여러 줄의 데이터를 파일에 한 번에 쓰기"
   ]
  },
  {
   "cell_type": "code",
   "execution_count": 326,
   "id": "24fab97a-1349-4867-be3b-1efa0c4b4c48",
   "metadata": {},
   "outputs": [],
   "source": [
    "# 파일 만들고 그 안에 쓰기\n",
    "\n",
    "# example.txt 파일을 쓰기 모드로 열기\n",
    "file = open('example.txt', 'w')  # 'w'는 쓰기 모드 (파일이 없으면 새로 생성됨)\n",
    "file.write(\"Hello, world!\\n\") # 텍스트 데이터를 파일에 씀\n",
    "file.write(\"This is a new line.\")  # 추가로 한 줄 씀\n",
    "file.close()  # 파일을 닫음"
   ]
  },
  {
   "cell_type": "markdown",
   "id": "45222540-9cac-4e13-8e4a-4afd89d68168",
   "metadata": {},
   "source": [
    "<img src = 'https://media.discordapp.net/attachments/991299515866959925/1346727461798543390/2025-03-05_151300.png?ex=67c93d2f&is=67c7ebaf&hm=2c67c55a672b457a1684131621d7690b9ebb83cdd4558942f9defccb7cc6fec2&=&format=webp&quality=lossless&width=400&height=140'>\n",
    "<img src = 'https://media.discordapp.net/attachments/991299515866959925/1346727462045745162/2025-03-05_151253.png?ex=67c93d2f&is=67c7ebaf&hm=a067b354f397a5ee594d1b3d074a70950a472916ebb4b6fcd0d2d65c5b858499&=&format=webp&quality=lossless&width=998&height=483'>"
   ]
  },
  {
   "cell_type": "markdown",
   "id": "6019bf7f-1e8e-4154-9556-2b310ceff0fa",
   "metadata": {},
   "source": [
    "파일 추가 후 입력된 것까지 확인하였다.<br/>"
   ]
  },
  {
   "cell_type": "code",
   "execution_count": 330,
   "id": "6ee3c805-a552-421c-829b-8617a7c80bfc",
   "metadata": {},
   "outputs": [],
   "source": [
    "# data.txt 파일을 쓰기 모드로 열기\n",
    "data = ['data1\\n', 'data2\\n', 'data3']\n",
    "file = open('data.txt', 'w')   \n",
    "file.writelines(data) \n",
    "file.close()"
   ]
  },
  {
   "cell_type": "markdown",
   "id": "2fd5fc33-5281-403a-a94e-40b4b7fe9653",
   "metadata": {},
   "source": [
    "<img src = 'https://media.discordapp.net/attachments/991299515866959925/1346728223152672828/2025-03-05_151640.png?ex=67c93de5&is=67c7ec65&hm=511ef70887f4f239c0b251fd743635564fdb9397233a1ed278cc10718db5f7af&=&format=webp&quality=lossless&width=324&height=113'>\n",
    "<img src = 'https://media.discordapp.net/attachments/991299515866959925/1346728222737563709/2025-03-05_151648.png?ex=67c93de5&is=67c7ec65&hm=af82097d0ccdba528761b3e79770fca31d16fe937939013e1073706a60f161fc&=&format=webp&quality=lossless&width=491&height=385'>"
   ]
  },
  {
   "cell_type": "code",
   "execution_count": 335,
   "id": "4b2109e4-2598-4b15-8f84-b3d569a273bd",
   "metadata": {},
   "outputs": [
    {
     "name": "stdout",
     "output_type": "stream",
     "text": [
      "Hello, world!\n",
      "This is a new line.\n"
     ]
    }
   ],
   "source": [
    "# example.txt 파일 열기\n",
    "file = open('example.txt', 'r')  # 읽기모드\n",
    "data = file.read()\n",
    "print(data)"
   ]
  },
  {
   "cell_type": "code",
   "execution_count": 337,
   "id": "59d8324b-bd2d-46f5-8e9e-928e01ee64e8",
   "metadata": {},
   "outputs": [
    {
     "data": {
      "text/plain": [
       "''"
      ]
     },
     "execution_count": 337,
     "metadata": {},
     "output_type": "execute_result"
    }
   ],
   "source": [
    "file.read() # 이미 다 읽어버려서 데이터가 없음"
   ]
  },
  {
   "cell_type": "code",
   "execution_count": 341,
   "id": "cfba0f11-3078-46a4-bdf5-229ea0405b2d",
   "metadata": {},
   "outputs": [],
   "source": [
    "file.close()  # 파일을 닫음"
   ]
  },
  {
   "cell_type": "code",
   "execution_count": 345,
   "id": "2bc2e3b7-4219-44ac-ab31-6a065adba8c9",
   "metadata": {},
   "outputs": [
    {
     "name": "stdout",
     "output_type": "stream",
     "text": [
      "data1\n",
      "data2\n",
      "data3\n"
     ]
    }
   ],
   "source": [
    "# data.txt 파일 열기\n",
    "file = open('data.txt', 'r')  # 읽기모드\n",
    "data = file.read()\n",
    "print(data)"
   ]
  },
  {
   "cell_type": "code",
   "execution_count": 347,
   "id": "6d1f8352-f8a7-4b45-a9f8-bb2f6cacae0b",
   "metadata": {},
   "outputs": [],
   "source": [
    "if []: # False, 0, '', [], () \n",
    "    print(\"HI\")"
   ]
  },
  {
   "cell_type": "code",
   "execution_count": 349,
   "id": "f3f3149f-6164-42b7-afa9-59748573ddff",
   "metadata": {},
   "outputs": [
    {
     "name": "stdout",
     "output_type": "stream",
     "text": [
      "['data1\\n', 'data2\\n', 'data3']\n"
     ]
    }
   ],
   "source": [
    "# data.txt 파일을 읽기\n",
    "f = open('data.txt', 'r')   \n",
    "lines = []\n",
    "line = f.readline()\n",
    "while line: # 빈 문자열, 빈 리스트, 빈 튜플, 0 등은 False로 간주됩니다.\n",
    "    lines.append(line)\n",
    "    line = f.readline()\n",
    "print(lines)\n",
    "f.close()"
   ]
  },
  {
   "cell_type": "code",
   "execution_count": 351,
   "id": "183fd6c5-4970-4c36-839c-de4980f6071d",
   "metadata": {},
   "outputs": [],
   "source": [
    "# 파일 추가\n",
    "f = open('data.txt', 'a')  # a는 더하기 모드이므로 파일에 정보를 추가로 쓴다.\n",
    "f.write('\\ndata4')\n",
    "f.close()"
   ]
  },
  {
   "cell_type": "code",
   "execution_count": 355,
   "id": "c6c72791-d2c1-436b-bbf1-162ca0c2d4bc",
   "metadata": {},
   "outputs": [
    {
     "name": "stdout",
     "output_type": "stream",
     "text": [
      "['data1\\n', 'data2\\n', 'data3\\n', 'data4']\n"
     ]
    }
   ],
   "source": [
    "f = open('data.txt', 'r')   \n",
    "lines = f.readlines()\n",
    "print(lines)\n",
    "f.close()\n",
    "# '\\ndata4'가 추가된 것을 알 수 있다."
   ]
  },
  {
   "cell_type": "markdown",
   "id": "1bfba6bd-e614-44cd-a12e-f1050c6839d8",
   "metadata": {},
   "source": [
    "## with ~ as"
   ]
  },
  {
   "cell_type": "markdown",
   "id": "3cf178c6-055f-44f4-bd9e-cc54ad791f60",
   "metadata": {},
   "source": [
    "* close()를 계속 사용하기 번거롭다면 with 구문을 쓰면 된다.\n",
    "* with는 파일을 열고 작업을 마치는 것까지 코드블록 내에서 수행한다. 그래서 오류를 방지할 수 있다."
   ]
  },
  {
   "cell_type": "markdown",
   "id": "0a121104-3297-47bb-b67d-b04b06c15e27",
   "metadata": {},
   "source": [
    "**with ~ as 형식**  <br/>\n",
    "**with open**(파일) as 변수:  <br/>\n",
    "    do something with 변수<br/>"
   ]
  },
  {
   "cell_type": "markdown",
   "id": "df5e52b5-fb79-404c-b5d3-78d7791ba814",
   "metadata": {},
   "source": [
    "<예시><br/>\n",
    "**with** open('example.txt', 'r') **as** file:<br/>\n",
    " content = file.read()<br/>\n",
    " print(content)<br/>"
   ]
  },
  {
   "cell_type": "code",
   "execution_count": 357,
   "id": "6dce2d43-c760-40e6-94d6-e9899cb25dc7",
   "metadata": {},
   "outputs": [
    {
     "name": "stdout",
     "output_type": "stream",
     "text": [
      "Hello, world!\n",
      "This is a new line.\n"
     ]
    }
   ],
   "source": [
    "with open('example.txt', 'r') as file:  # 자동으로 파일을 닫음\n",
    "    content = file.read()  # 파일의 내용을 읽음\n",
    "    print(content)  # 읽은 내용을 출력"
   ]
  },
  {
   "cell_type": "markdown",
   "id": "dc516088-a2fa-4ce5-8644-c1708652cbec",
   "metadata": {},
   "source": [
    "## 경로와 os 모듈"
   ]
  },
  {
   "cell_type": "markdown",
   "id": "129af5e0-50f7-4916-8547-b523a5e9b55b",
   "metadata": {},
   "source": [
    "### 절대 경로"
   ]
  },
  {
   "cell_type": "markdown",
   "id": "a740bcda-2b8e-418f-902c-c4887aaf55e5",
   "metadata": {},
   "source": [
    "* 절대 경로는 파일 시스템에서 파일의 위치를 루트 디렉토리부터 시작해서 지정하는 경로이다.\n",
    "    * 폴더의 주소 창을 바탕으로 가져올 수 있으나 파일명은 포함되지 않으니 파일명을 추가해야 한다.\n",
    "    * 파일 내 속성 내 위치 (우클릭)을 바탕으로 경로를 얻을 수 있다.\n",
    "    * 그러나 이렇게 얻은 경로에는 역슬레시(\\)가 포함되어 있으니 바꾸어 주거나 문자열 앞에 r을 붙인다.(후자를 많이 사용)\n",
    "    * 다른 컴퓨터에서는 이 경로를 쓸 수 없다는 단점\n",
    "* 다음과 같이 나타낸다."
   ]
  },
  {
   "cell_type": "markdown",
   "id": "d38dd1db-37e2-4a4f-81fe-c896f168e1a1",
   "metadata": {},
   "source": [
    "path = r'C:\\Users\\사용자명\\Pictures\\Screenshots\\스크린샷.png'\n"
   ]
  },
  {
   "cell_type": "code",
   "execution_count": 378,
   "id": "f9191469-95e6-4166-b33e-ad857d9a6d94",
   "metadata": {},
   "outputs": [
    {
     "name": "stdout",
     "output_type": "stream",
     "text": [
      "dfdsfsdfsdfsf\n"
     ]
    }
   ],
   "source": [
    "path = r'C:\\Users\\정민주\\Downloads\\data1.txt'\n",
    "with open(path, 'r') as f:\n",
    "    contents = f.read()\n",
    "print(contents)"
   ]
  },
  {
   "cell_type": "markdown",
   "id": "26459b14-3b60-44f2-89e6-c87e49987cde",
   "metadata": {},
   "source": [
    "<img src = 'https://media.discordapp.net/attachments/991299515866959925/1346736384391516181/2025-03-05_154707.png?ex=67c9457f&is=67c7f3ff&hm=20df4aa273a86af0416334926bc7d4e3398d0dc959c50126ca354bf91eeb242c&=&format=webp&quality=lossless&width=553&height=209'>"
   ]
  },
  {
   "cell_type": "markdown",
   "id": "05a6f662-ce58-4b13-bb03-d9e238a6e7cb",
   "metadata": {},
   "source": [
    "### 상대 경로"
   ]
  },
  {
   "cell_type": "markdown",
   "id": "f5893872-15b7-4637-b249-2c93c6b1b232",
   "metadata": {},
   "source": [
    "* 현재 작업 디렉토리를 기준으로 파일의 위치를 지정하는 경로\n",
    "    * 사용이 간단하며 프로그램 배포 시 사용하기 좋음\n",
    "    *  .. 은 이전 경로(상위)를 나타내며, /는 소속 관계를 나타낸다."
   ]
  },
  {
   "cell_type": "markdown",
   "id": "ac19df85-d190-4a5c-97eb-cf4cdfd2c92a",
   "metadata": {},
   "source": [
    "### os 모듈의 주요 함수\n",
    "\n",
    "os 모듈은 파이썬에서 파일 및 디렉토리 경로를 다루는 데 유용한 여러 함수를 제공한다.\n",
    "\n",
    "* os.getcwd(): 현재 작업 디렉토리 가져오기\n",
    "* os.chdir(path): 작업 디렉토리 변경\n",
    "* os.listdir(path): 경로 내 파일 및 폴더 목록"
   ]
  },
  {
   "cell_type": "code",
   "execution_count": 5,
   "id": "374ada55-a12d-441f-a4d4-21d53d2b0a98",
   "metadata": {},
   "outputs": [
    {
     "data": {
      "text/plain": [
       "'C:\\\\Users\\\\정민주\\\\데이터 공부'"
      ]
     },
     "execution_count": 5,
     "metadata": {},
     "output_type": "execute_result"
    }
   ],
   "source": [
    "import os\n",
    "os.getcwd()"
   ]
  },
  {
   "cell_type": "code",
   "execution_count": 10,
   "id": "8045b29a-6993-42c6-b034-17df966f1576",
   "metadata": {},
   "outputs": [
    {
     "name": "stdout",
     "output_type": "stream",
     "text": [
      "wdwdwdwdwdw\n"
     ]
    }
   ],
   "source": [
    "path = '../데이터 공부/data11.txt'\n",
    "with open(path, 'r') as f:\n",
    "    contents = f.read()\n",
    "print(contents)"
   ]
  },
  {
   "cell_type": "code",
   "execution_count": 14,
   "id": "616434bd-4709-4b13-99cd-da8c8189b6b5",
   "metadata": {},
   "outputs": [],
   "source": [
    "os.chdir('../데이터 공부/폴더2')"
   ]
  },
  {
   "cell_type": "code",
   "execution_count": null,
   "id": "6a57debd-2605-42cd-8e36-c0a44ca7ff3b",
   "metadata": {},
   "outputs": [],
   "source": [
    "#작업 폴더 바꾸기"
   ]
  },
  {
   "cell_type": "code",
   "execution_count": 16,
   "id": "3d6c3187-f988-4546-93c0-460c2c5d11b8",
   "metadata": {},
   "outputs": [
    {
     "data": {
      "text/plain": [
       "'C:\\\\Users\\\\정민주\\\\데이터 공부\\\\폴더2'"
      ]
     },
     "execution_count": 16,
     "metadata": {},
     "output_type": "execute_result"
    }
   ],
   "source": [
    "os.getcwd()"
   ]
  },
  {
   "cell_type": "code",
   "execution_count": null,
   "id": "0ce3bfcc-ad2f-4c14-8657-f917dcb7d70e",
   "metadata": {},
   "outputs": [],
   "source": [
    "# 바뀐 것 확인"
   ]
  },
  {
   "cell_type": "markdown",
   "id": "9760823a-3c9f-417a-9ab8-2b32929bb6d7",
   "metadata": {},
   "source": [
    "### 경로 내 파일/폴더 목록 불러오기"
   ]
  },
  {
   "cell_type": "code",
   "execution_count": 25,
   "id": "c10fe07d-38d0-4689-87a0-1610adcd4db0",
   "metadata": {},
   "outputs": [
    {
     "data": {
      "text/plain": [
       "['.ipynb_checkpoints',\n",
       " '1주-1일 공부 노트.ipynb',\n",
       " '1주-1일 공부 노트2.ipynb',\n",
       " '1주-1일 공부 노트3.ipynb',\n",
       " '250305.ipynb',\n",
       " '5. Alexnet 구현하기.ipynb',\n",
       " 'data11.txt',\n",
       " 'example.txt',\n",
       " 'Untitled.ipynb',\n",
       " '폴더2']"
      ]
     },
     "execution_count": 25,
     "metadata": {},
     "output_type": "execute_result"
    }
   ],
   "source": [
    "os.chdir('..')\n",
    "os.listdir()"
   ]
  },
  {
   "cell_type": "code",
   "execution_count": 27,
   "id": "18b8eb83-af15-4e0a-bafc-963b679116a8",
   "metadata": {},
   "outputs": [
    {
     "data": {
      "text/plain": [
       "['.ipynb_checkpoints', 'data.txt']"
      ]
     },
     "execution_count": 27,
     "metadata": {},
     "output_type": "execute_result"
    }
   ],
   "source": [
    "os.listdir('폴더2')"
   ]
  },
  {
   "cell_type": "markdown",
   "id": "896199a9-f9c2-487b-848c-16fa362332b3",
   "metadata": {},
   "source": [
    "### 피클(pickle) 모듈"
   ]
  },
  {
   "cell_type": "markdown",
   "id": "f57c12cd-e49b-4fcd-84c2-1e1ba82063ad",
   "metadata": {},
   "source": [
    "pickle 모듈은 파이썬 객체를 저장하고 불러오는데 사용한다.\n",
    "* 파일로 변환하기 어려운 객체(예: ML 모델)를 저장하고 다시 불러오기\n",
    "* pickle.dump(obj, file): 객체 obj를 파일 객체 file에 저장\n",
    "* pickle.load(file): 파일 객체 file에 있는 객체를 불러오기"
   ]
  },
  {
   "cell_type": "code",
   "execution_count": 31,
   "id": "081667a9-e521-42dd-9697-99ac519c2238",
   "metadata": {},
   "outputs": [],
   "source": [
    "# pickle을 이용한 객체 저장 및 불러오기\n",
    "\n",
    "import pickle\n",
    "\n",
    "# 저장할 데이터\n",
    "data = {'name': 'Bob', 'age': 30, 'is_active': True}\n",
    "\n",
    "# 데이터를 파일에 저장 (pkl, pckl, pickle - 확장자는 취행대로)\n",
    "with open('user_data.pkl', 'wb') as file:\n",
    "    pickle.dump(data, file)"
   ]
  },
  {
   "cell_type": "code",
   "execution_count": 33,
   "id": "d7778cfa-1d7d-4418-8063-cebfdc289ce2",
   "metadata": {},
   "outputs": [
    {
     "name": "stdout",
     "output_type": "stream",
     "text": [
      "{'name': 'Bob', 'age': 30, 'is_active': True} <class 'dict'>\n"
     ]
    }
   ],
   "source": [
    "# 파일에서 데이터를 읽어오기\n",
    "with open('user_data.pkl', 'rb') as file:\n",
    "    loaded_data = pickle.load(file)\n",
    "\n",
    "print(loaded_data, type(loaded_data)) "
   ]
  },
  {
   "cell_type": "markdown",
   "id": "f87cad1b-81f2-479a-8535-005f61362860",
   "metadata": {},
   "source": [
    "# **클래스**"
   ]
  },
  {
   "cell_type": "markdown",
   "id": "497fd71b-d685-44fd-b7d0-6cb1fe37227b",
   "metadata": {},
   "source": [
    "* 객체지향 프로그래밍의 핵심 요소, 복잡한 문제를 효율적으로 해결하고 유지보수하기 쉽게 쓰는것\n",
    "* 클래스를 만들어두면 그 클래스를 업데이트하고 유지보수하면 됨.\n",
    "* 없으면? 전체 코드를 계속 고쳐야해서 코드가 꼬이게됨.\n",
    "* 클래스는 다음과 같이 정의한다."
   ]
  },
  {
   "cell_type": "code",
   "execution_count": 39,
   "id": "14fecd33-8cd1-40ac-807b-4e97637a5fee",
   "metadata": {},
   "outputs": [],
   "source": [
    "class Myfirstclass:\n",
    "     pass"
   ]
  },
  {
   "cell_type": "code",
   "execution_count": 42,
   "id": "837ecf08-af8f-41d2-be43-838ecde5e6cf",
   "metadata": {},
   "outputs": [
    {
     "name": "stdout",
     "output_type": "stream",
     "text": [
      "<class '__main__.Myfirstclass'>\n",
      "<class '__main__.Myfirstclass'>\n"
     ]
    }
   ],
   "source": [
    "a = Myfirstclass()\n",
    "b = Myfirstclass() \n",
    "\n",
    "print(type(a))\n",
    "print(type(b))"
   ]
  },
  {
   "cell_type": "code",
   "execution_count": 44,
   "id": "3d1a3430-4792-48c0-a653-7214774f3792",
   "metadata": {},
   "outputs": [
    {
     "name": "stdout",
     "output_type": "stream",
     "text": [
      "<class 'int'> <class 'int'>\n"
     ]
    }
   ],
   "source": [
    "x1 = 3\n",
    "x2 = int(5)\n",
    "\n",
    "print(type(x1), type(x2))"
   ]
  },
  {
   "cell_type": "code",
   "execution_count": 46,
   "id": "8588e4dc-3463-488b-9f62-c8ed4d6b8ae7",
   "metadata": {},
   "outputs": [
    {
     "name": "stdout",
     "output_type": "stream",
     "text": [
      "<class 'list'> <class 'list'>\n"
     ]
    }
   ],
   "source": [
    "L1 = [1,2]\n",
    "L2 = [3,4]\n",
    "print(type(L1), type(L2))"
   ]
  },
  {
   "cell_type": "code",
   "execution_count": 48,
   "id": "14b1ce80-b42a-49b7-9df0-729bd706184d",
   "metadata": {},
   "outputs": [],
   "source": [
    "L1.append(3)\n",
    "L2.append(5)"
   ]
  },
  {
   "cell_type": "markdown",
   "id": "6b71ebaa-128b-44d0-b971-aa54dc138cc8",
   "metadata": {},
   "source": [
    "## **생성자, 속성, 메서드**"
   ]
  },
  {
   "cell_type": "markdown",
   "id": "df5416c7-ffe3-4cce-9096-8ceff5fec94a",
   "metadata": {},
   "source": [
    "### 생성자\n",
    "* 객체가 생성될 때 자동으로 호출되는 메서드\n",
    "* 객체의 초기 상태를 설정한다.\n",
    "\n",
    "### 속성\n",
    "* 객체가 가지는 특성을 나타낸다. 각 객체는 고유한 속성을 가질 수 있다.\n",
    "\n",
    "### 메서드\n",
    "* 객체가 수행할 수 있는 동작(기능)을 정의하는 클래스 내부 함수이다.\n",
    "* 따라서 함수이다.\n",
    "* 클래스.함수() 의 형식으로 불러와야 한다.\n",
    "\n",
    "### self\n",
    "* self는 객체의 인스턴스 그 자체를 말한다. 즉, 객체 자기 자신을 참조하는 매개변수이다.\n",
    "* 메서드의 첫 번째 인자로 적지만 꼭 첫 번째 인자일 필요는 없다.\n",
    "* 참고: https://wikidocs.net/1742\n",
    "* 참고: https://velog.io/@dchlseo/python-what-is-self\n",
    "* \n",
    "\n",
    "**흐름**  \n",
    "-> **class**로 클래스를 정의하고, **__init__**으로 객체를 초기화한다.  \n",
    "-> 객체의 속성은 **self**로 정의하고, 메서드로 객체의 동작을 정의한다.  \n",
    "-> 상속을 사용하여 다른 클래스의 기능을 확장하고, 다형성을 통해 같은 메서드를 다양한 객체에서 다르게 구현할 수 있다.  "
   ]
  },
  {
   "cell_type": "code",
   "execution_count": null,
   "id": "5bf1c2be-0177-4d9e-9d3f-459ad7efaf28",
   "metadata": {},
   "outputs": [],
   "source": [
    "# 도서 정보 출력 시스템\n",
    "# * 책의 제목과 저자를 저장하고 이를 출력할 수 있는 클래스를 작성한다.\n",
    "# * 클래스를 사용해 두 권의 책 정보를 저장하고 각 책의 정보를 출력하는 메서드를 호출한다."
   ]
  },
  {
   "cell_type": "code",
   "execution_count": 52,
   "id": "f1c189e2-f455-4a8c-addc-d66e532b4b9e",
   "metadata": {},
   "outputs": [],
   "source": [
    "class Book:\n",
    "    # 생성자: 책 제목과 저자 설정\n",
    "    def __init__(self, title, author):\n",
    "        self.title = title    # 속성: 책 제목\n",
    "        self.author = author  # 속성: 책 저자\n",
    "\n",
    "    # 메서드: 책 정보 출력\n",
    "    def display_info(self):\n",
    "        print(f\"책 제목: {self.title}\")\n",
    "        print(f\"저자: {self.author}\")"
   ]
  },
  {
   "cell_type": "code",
   "execution_count": 54,
   "id": "55d8c66a-7de7-43a2-8677-efebad5d903d",
   "metadata": {},
   "outputs": [
    {
     "name": "stdout",
     "output_type": "stream",
     "text": [
      "책 제목: 해리 포터와 마법사의 돌\n",
      "저자: J.K. 롤링\n",
      "책 제목: 어린 왕자\n",
      "저자: 앙투안 드 생텍쥐페리\n"
     ]
    }
   ],
   "source": [
    "# 객체 생성 및 사용\n",
    "book1 = Book(\"해리 포터와 마법사의 돌\", \"J.K. 롤링\")\n",
    "book2 = Book(\"어린 왕자\", \"앙투안 드 생텍쥐페리\")\n",
    "\n",
    "# 메서드 호출\n",
    "book1.display_info()\n",
    "book2.display_info()"
   ]
  },
  {
   "cell_type": "code",
   "execution_count": 64,
   "id": "360179e8-8788-4675-ac6a-3f701bf20c5b",
   "metadata": {},
   "outputs": [],
   "source": [
    "## 은행 계좌 관리 시스템\n",
    "# * - 은행 계좌의 소유자 이름과 초기 잔액을 저장하고, 입출금 기능을 제공하는 클래스를 작성한다.\n",
    "# * - 입금 및 출금 금액은 0보다 커야 하고, 잔액보다 출금 금액이 클 수는 없다.\n",
    "# * - 클래스를 사용해 하나의 계좌를 생성하고 입금, 출금을 실행하며 잔액을 확인한다."
   ]
  },
  {
   "cell_type": "code",
   "execution_count": 56,
   "id": "7c0ae956-42b2-426f-977b-d09044b47343",
   "metadata": {},
   "outputs": [],
   "source": [
    "class BankAccount:\n",
    "    # 생성자: 계좌 소유자와 초기 잔액 설정\n",
    "    def __init__(self, owner, balance=0):\n",
    "        self.owner = owner       # 속성: 계좌 소유자\n",
    "        self.balance = balance   # 속성: 계좌 잔액\n",
    "\n",
    "    # 메서드: 입금\n",
    "    def deposit(self, amount):\n",
    "        if amount > 0:\n",
    "            self.balance += amount\n",
    "            print(f\"{amount}원이 입금되었습니다. 현재 잔액: {self.balance}원\")\n",
    "        else:\n",
    "            print(\"입금 금액은 0보다 커야 합니다.\")\n",
    "\n",
    "    # 메서드: 출금\n",
    "    def withdraw(self, amount):\n",
    "        if amount > self.balance:\n",
    "            print(\"잔액이 부족합니다.\")\n",
    "        elif amount > 0:\n",
    "            self.balance -= amount\n",
    "            print(f\"{amount}원이 출금되었습니다. 현재 잔액: {self.balance}원\")\n",
    "        else:\n",
    "            print(\"출금 금액은 0보다 커야 합니다.\")\n",
    "\n",
    "    # 메서드: 계좌 정보 출력\n",
    "    def display_info(self):\n",
    "        print(f\"계좌 소유자: {self.owner}\")\n",
    "        print(f\"현재 잔액: {self.balance}원\")"
   ]
  },
  {
   "cell_type": "code",
   "execution_count": 58,
   "id": "e24317d0-9fab-43f1-abd2-1cbc99ea0a60",
   "metadata": {},
   "outputs": [
    {
     "name": "stdout",
     "output_type": "stream",
     "text": [
      "계좌 소유자: 홍길동\n",
      "현재 잔액: 5000원\n",
      "3000원이 입금되었습니다. 현재 잔액: 8000원\n",
      "입금 금액은 0보다 커야 합니다.\n",
      "1000원이 출금되었습니다. 현재 잔액: 7000원\n",
      "잔액이 부족합니다.\n"
     ]
    }
   ],
   "source": [
    "# 객체 생성 및 사용\n",
    "account = BankAccount(\"홍길동\", 5000)  # 초기 잔액: 5000원\n",
    "\n",
    "account.display_info()\n",
    "account.deposit(3000)\n",
    "account.deposit(-100)\n",
    "account.withdraw(1000)\n",
    "account.withdraw(8000)"
   ]
  },
  {
   "cell_type": "code",
   "execution_count": 62,
   "id": "daa8431c-5b0b-4ee1-abae-601c01bab068",
   "metadata": {},
   "outputs": [],
   "source": [
    "## 학점 관리 시스템 \n",
    "# * - 학생의 이름과 점수 목록을 저장하고, 평균 점수를 계산하여 출력하는 클래스를 작성한다.\n",
    "# - 클래스를 사용해 두 명의 학생 정보를 저장하고, 각 학생의 평균 점수를 포함한 정보를 출력한다."
   ]
  },
  {
   "cell_type": "code",
   "execution_count": 66,
   "id": "fefdd495-5fde-44a3-98fb-4c6cfec7b4a4",
   "metadata": {},
   "outputs": [],
   "source": [
    "class Student:\n",
    "    # 생성자: 학생 이름과 점수 목록 초기화\n",
    "    def __init__(self, name, scores):\n",
    "        self.name = name          # 속성: 학생 이름\n",
    "        self.scores = scores      # 속성: 점수 목록 (리스트)\n",
    "\n",
    "    # 메서드: 평균 점수 계산\n",
    "    def calculate_average(self):\n",
    "        return sum(self.scores) / len(self.scores)\n",
    "\n",
    "    # 메서드: 학생 정보 출력\n",
    "    def display_info(self):\n",
    "        average = self.calculate_average()  # 평균 점수 계산\n",
    "        print(f\"학생 이름: {self.name}\")\n",
    "        print(f\"점수 목록: {self.scores}\")\n",
    "        print(f\"평균 점수: {average:.2f}\") # 소수점 둘째자리까지 출력"
   ]
  },
  {
   "cell_type": "code",
   "execution_count": null,
   "id": "a46c3b0a-777f-47b0-8ce8-22bb3a336455",
   "metadata": {},
   "outputs": [],
   "source": [
    "# 클래스 안에서는 메서드 이용이 자유롭다."
   ]
  },
  {
   "cell_type": "code",
   "execution_count": 68,
   "id": "0f0e905f-bd57-485a-9426-66528a694e0f",
   "metadata": {},
   "outputs": [
    {
     "name": "stdout",
     "output_type": "stream",
     "text": [
      "학생 이름: 홍길동\n",
      "점수 목록: [85, 90, 78]\n",
      "평균 점수: 84.33\n",
      "학생 이름: 김영희\n",
      "점수 목록: [92, 88, 95, 100]\n",
      "평균 점수: 93.75\n"
     ]
    }
   ],
   "source": [
    "# 객체 생성 및 사용\n",
    "student1 = Student(\"홍길동\", [85, 90, 78])\n",
    "student2 = Student(\"김영희\", [92, 88, 95, 100])\n",
    "\n",
    "student1.display_info()\n",
    "student2.display_info()"
   ]
  },
  {
   "cell_type": "code",
   "execution_count": 70,
   "id": "59741129-dfab-4483-bffb-74395036a170",
   "metadata": {},
   "outputs": [
    {
     "data": {
      "text/plain": [
       "84.33333333333333"
      ]
     },
     "execution_count": 70,
     "metadata": {},
     "output_type": "execute_result"
    }
   ],
   "source": [
    "student1.calculate_average()"
   ]
  },
  {
   "cell_type": "markdown",
   "id": "24db1cc1-7c30-4f8e-9434-7ce18316f2b0",
   "metadata": {},
   "source": [
    "## 반드시 알아두어야 할 것\n",
    "\n",
    "* 앞으로 사용할 패키지는 반드시 하나 이상의 클래스를 포함한다.\n",
    "* 클래스에 대한 개념은 반드시 숙지하여야 한다. (클래스를 직접 만들 일이 없다고 하더라도)"
   ]
  },
  {
   "cell_type": "markdown",
   "id": "c228755b-c9f3-4186-b1c8-7bb94ab77856",
   "metadata": {},
   "source": [
    "# **모듈과 패키지**"
   ]
  },
  {
   "cell_type": "markdown",
   "id": "a95b7092-a0e2-4aa2-9c31-94f616b350c2",
   "metadata": {},
   "source": [
    "## 모듈과 패키지의 기초\n",
    "* 파일들이 모듈, 폴더가 패키지라고 보면 됨.\n",
    "* Lib > site-packages에서 확인할 수 있다.\n",
    "* import문은 모듈과 패키지를 불러올 때 사용한다.\n",
    "\n",
    "**import** 모듈명  \n",
    "모듈명.함수명 # 모듈 내 함수 사용하기  \n",
    "모듈명.클래스명 # 모듈 내 클래스 사용하기  \n",
    "  \n",
    "**import** 모듈명 **as** 축약모듈명 # 모듈 불러오기  \n",
    "축약모듈명.함수명 # 모듈 내 함수 사용하기  \n",
    "축약모듈명.클래스명 # 모듈 내 클래스 사용하기  \n",
    "\n",
    "**from** 모듈명 **import** 함수명, 클래스명 # 함수 및 클래스 불러오기  \n",
    "함수명 # 모듈 내 함수 사용하기  \n",
    "클래스명 # 모듈 내 클래스 사용하기  \n",
    "\n",
    "**from** 모듈명 **import**  # 모든 함수 및 클래스 불러오기  \n",
    "함수명 # 모듈 내 함수 사용하기  \n",
    "클래스명 # 모듈 내 클래스 사용하기  "
   ]
  },
  {
   "cell_type": "code",
   "execution_count": 82,
   "id": "642c446e-1b4c-4c63-9456-4dd6fbe27c1c",
   "metadata": {},
   "outputs": [
    {
     "name": "stdout",
     "output_type": "stream",
     "text": [
      "2.0\n"
     ]
    }
   ],
   "source": [
    "import math # math 불러오기\n",
    "print(math.sqrt(4)) # math 내의 함수 sqrt 사용 - 제곱근을 구한다."
   ]
  },
  {
   "cell_type": "code",
   "execution_count": 80,
   "id": "511efa5b-260b-4bbb-825a-e350d26a56da",
   "metadata": {},
   "outputs": [
    {
     "name": "stdout",
     "output_type": "stream",
     "text": [
      "2.0\n"
     ]
    }
   ],
   "source": [
    "import math as M # math를 M으로 불러오기\n",
    "print(M.sqrt(4)) # M 내의 함수 sqrt 사용\n",
    "# 이런 형식으로도 부를 수 있다. 별명을 붙여주면 더 편하다."
   ]
  },
  {
   "cell_type": "code",
   "execution_count": 84,
   "id": "ca425e60-ab5c-4011-9cb9-dbf493c00680",
   "metadata": {},
   "outputs": [
    {
     "name": "stdout",
     "output_type": "stream",
     "text": [
      "2.0\n",
      "0.0\n"
     ]
    }
   ],
   "source": [
    "from math import sqrt, sin # math 내의 sqrt 함수만 사용\n",
    "print(sqrt(4))\n",
    "print(sin(0))"
   ]
  },
  {
   "cell_type": "code",
   "execution_count": 86,
   "id": "03693723-809f-4dd8-94cf-4c91287bd962",
   "metadata": {},
   "outputs": [
    {
     "name": "stdout",
     "output_type": "stream",
     "text": [
      "2.0\n",
      "0.0\n"
     ]
    }
   ],
   "source": [
    "from math import sqrt, sin # math 내의 sqrt와 sin 함수만 사용\n",
    "print(sqrt(4))\n",
    "print(sin(0))"
   ]
  },
  {
   "cell_type": "markdown",
   "id": "ef927175-a4f2-43d7-afee-bdced4c73727",
   "metadata": {},
   "source": [
    "## 주요 내장 모듈"
   ]
  },
  {
   "cell_type": "code",
   "execution_count": 99,
   "id": "959db73c-8c6a-4788-9a94-d94310acf873",
   "metadata": {},
   "outputs": [],
   "source": [
    "# math 모듈 - 수학적 계산을 위한 함수를 제공한다.\n",
    "import math"
   ]
  },
  {
   "cell_type": "code",
   "execution_count": 93,
   "id": "0495096a-5220-4b97-97c3-419b51de7f5f",
   "metadata": {},
   "outputs": [
    {
     "name": "stdout",
     "output_type": "stream",
     "text": [
      "16의 제곱근: 4.0\n"
     ]
    }
   ],
   "source": [
    "# 제곱근 계산\n",
    "x = 16\n",
    "result = math.sqrt(x)\n",
    "print(f\"{x}의 제곱근:\", result)  # 출력: 4.0"
   ]
  },
  {
   "cell_type": "code",
   "execution_count": 95,
   "id": "a4fad718-bda8-4b33-a722-b391daefc165",
   "metadata": {},
   "outputs": [
    {
     "name": "stdout",
     "output_type": "stream",
     "text": [
      "4.7의 올림값: 5\n",
      "4.7의 버림값: 4\n"
     ]
    }
   ],
   "source": [
    "# 올림과 버림 (=int를 쓰는 경우가 더 많음)\n",
    "num = 4.7\n",
    "print(f\"{num}의 올림값:\", math.ceil(num))  # 출력: 5\n",
    "print(f\"{num}의 버림값:\", math.floor(num))  # 출력: 4"
   ]
  },
  {
   "cell_type": "code",
   "execution_count": 97,
   "id": "b2200316-2665-45b5-a941-9d8dff465f20",
   "metadata": {},
   "outputs": [
    {
     "name": "stdout",
     "output_type": "stream",
     "text": [
      "자연 로그 log(100): 4.605170185988092\n",
      "밑 10 로그 log(100, 10): 2.0\n"
     ]
    }
   ],
   "source": [
    "# 로그 계산\n",
    "x = 100\n",
    "print(f\"자연 로그 log({x}):\", math.log(x))  # 밑 e\n",
    "print(f\"밑 10 로그 log({x}, 10):\", math.log(x, 10))"
   ]
  },
  {
   "cell_type": "code",
   "execution_count": 101,
   "id": "95126e77-c3ab-4124-ac73-5e10d937d029",
   "metadata": {},
   "outputs": [],
   "source": [
    "import datetime\n",
    "# 시간, 날짜를 데이터를 이용하기 위한 모듈이다."
   ]
  },
  {
   "cell_type": "code",
   "execution_count": 103,
   "id": "dd330ae6-1f10-4a80-b6c6-80b303778acc",
   "metadata": {},
   "outputs": [
    {
     "name": "stdout",
     "output_type": "stream",
     "text": [
      "생성된 datetime 객체: 2025-01-03 14:30:45\n",
      "연도: 2025\n",
      "월: 1\n",
      "일: 3\n",
      "시간: 14\n",
      "분: 30\n",
      "초: 45\n"
     ]
    }
   ],
   "source": [
    "dt = datetime.datetime(2025, 1, 3, 14, 30, 45)\n",
    "print(\"생성된 datetime 객체:\", dt)\n",
    "\n",
    "# 주요 속성 접근\n",
    "print(\"연도:\", dt.year)\n",
    "print(\"월:\", dt.month)\n",
    "print(\"일:\", dt.day)\n",
    "print(\"시간:\", dt.hour)\n",
    "print(\"분:\", dt.minute)\n",
    "print(\"초:\", dt.second)"
   ]
  },
  {
   "cell_type": "code",
   "execution_count": 105,
   "id": "d039a96c-ae96-4fb0-af4f-4820adecf8b2",
   "metadata": {},
   "outputs": [
    {
     "name": "stdout",
     "output_type": "stream",
     "text": [
      "5일 3시간 30분 후: 2025-01-08 18:00:45\n",
      "5일 3시간 30분 전: 2024-12-29 11:00:45\n"
     ]
    }
   ],
   "source": [
    "# datetime 객체와 timedelta를 이용해 날짜 계산\n",
    "delta = datetime.timedelta(days=5, hours=3, minutes=30)\n",
    "future_date = dt + delta\n",
    "print(\"5일 3시간 30분 후:\", future_date)\n",
    "\n",
    "past_date = dt - delta\n",
    "print(\"5일 3시간 30분 전:\", past_date)"
   ]
  },
  {
   "cell_type": "code",
   "execution_count": 107,
   "id": "574130ba-45b7-4482-837c-b61bb7d742af",
   "metadata": {},
   "outputs": [
    {
     "name": "stdout",
     "output_type": "stream",
     "text": [
      "7 days, 0:00:00\n",
      "7\n"
     ]
    }
   ],
   "source": [
    "# 날짜 간 연산 \n",
    "dt1 = datetime.datetime(2025, 1, 10)\n",
    "dt2 = datetime.datetime(2025, 1, 3)\n",
    "difference = dt1 - dt2\n",
    "print(difference)\n",
    "print(difference.days)"
   ]
  },
  {
   "cell_type": "code",
   "execution_count": 109,
   "id": "f3d838e0-548a-43c3-8298-a402cad59d8d",
   "metadata": {},
   "outputs": [
    {
     "name": "stdout",
     "output_type": "stream",
     "text": [
      "2025-03-05\n"
     ]
    }
   ],
   "source": [
    "today = datetime.date.today()\n",
    "print(today)"
   ]
  },
  {
   "cell_type": "code",
   "execution_count": 111,
   "id": "f9732e61-22e3-438a-aa48-9918634af27a",
   "metadata": {},
   "outputs": [
    {
     "name": "stdout",
     "output_type": "stream",
     "text": [
      "2\n"
     ]
    }
   ],
   "source": [
    "weekday_today = today.weekday()\n",
    "print(weekday_today)"
   ]
  },
  {
   "cell_type": "code",
   "execution_count": 113,
   "id": "7120e11e-8882-40ab-ac4e-30b7688a7bbc",
   "metadata": {},
   "outputs": [
    {
     "name": "stdout",
     "output_type": "stream",
     "text": [
      "오늘 요일 인덱스: 2\n",
      "오늘 요일: 수요일\n"
     ]
    }
   ],
   "source": [
    "week_list = ['월요일', '화요일', '수요일', '목요일', '금요일', '토요일', '일요일']\n",
    "print(\"오늘 요일 인덱스:\", weekday_today)\n",
    "print(\"오늘 요일:\", week_list[weekday_today])"
   ]
  },
  {
   "cell_type": "code",
   "execution_count": 115,
   "id": "0b3e9dae-b537-4058-864d-4f47bca9f4d6",
   "metadata": {},
   "outputs": [],
   "source": [
    "from itertools import permutations, combinations, product\n",
    "\n",
    "# 반복자 생성 및 조합을 위한 다양한 함수를 제공한다."
   ]
  },
  {
   "cell_type": "markdown",
   "id": "dbe0e214-f4dd-4fe9-a184-f3419aa497c1",
   "metadata": {},
   "source": [
    "* permutations(iterable, r=None): 반복 가능한 객체에서 가능한 순열을 생성합니다.\n",
    "* combinations(iterable, r): 반복 가능한 객체에서 가능한 조합을 생성합니다.\n",
    "* product(*iterables, repeat=1): 카르테시안곱을 생성합니다."
   ]
  },
  {
   "cell_type": "markdown",
   "id": "f58f0ee6-44c4-4180-a978-bd31a5875703",
   "metadata": {},
   "source": [
    "그 외:  \n",
    "**re 모듈**   \n",
    ": 정규표현식(Regular Expressions)을 사용하여 문자열을 검색, 일치 확인, 치환, 분리 등의 작업을 수행할 수 있는 강력한 도구를 제공한다.  \n",
    "findall: 문자열에서패턴과 일치하는 모든 부분을 리스트로 반환한다.  \n",
    "\n",
    "예시:  \n",
    "result = re.findall(r\"\\d+\", \"abc123xyz456\") # d+는 연속된 숫자를 의미한다.  \n",
    "print(result) # ['123', '456']"
   ]
  },
  {
   "cell_type": "code",
   "execution_count": null,
   "id": "82c7eb36-c905-4b63-9666-01b7d0f8efb4",
   "metadata": {},
   "outputs": [],
   "source": []
  }
 ],
 "metadata": {
  "kernelspec": {
   "display_name": "Python 3 (ipykernel)",
   "language": "python",
   "name": "python3"
  },
  "language_info": {
   "codemirror_mode": {
    "name": "ipython",
    "version": 3
   },
   "file_extension": ".py",
   "mimetype": "text/x-python",
   "name": "python",
   "nbconvert_exporter": "python",
   "pygments_lexer": "ipython3",
   "version": "3.11.7"
  }
 },
 "nbformat": 4,
 "nbformat_minor": 5
}
