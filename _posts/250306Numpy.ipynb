{
 "cells": [
  {
   "cell_type": "markdown",
   "id": "512a943a-fe13-4ad5-bcc3-6e3d042dd1c9",
   "metadata": {},
   "source": [
    "# **Numpy**"
   ]
  },
  {
   "cell_type": "markdown",
   "id": "1a7cb072-6f15-40a6-83e6-18d5510bbf56",
   "metadata": {},
   "source": [
    "* 숫자데이터의 효율적 처리를 위한 라이브러리\n",
    "    * 빠르고 메모리 효율적이 배열 연산의 지원\n",
    "    * 파이썬의 기본 리스트보다 강력한 다차원 배열\n",
    "* 데이터 분석에 최적화된 특징을 가지고 있음\n",
    "    * 벡터, 텐서 연산을 효과적으로 처리할 수 있음. 내부적으로 C로 되어 있어서 연산 속도가 빠르다.\n",
    "    * 브로드케스팅: 배열 간 크기가 다른 경우에도 연산 가능\n",
    "    * 유연한 인덱싱  \n",
    "\n",
    "**<ndarray와 list>**  \n",
    "* ndarray는 list와 유사하지만 여러 면에서 더 효율적인 데이터 구조이다.\n",
    "    * 동종 데이터 저장: Numpy 배열은 모든 원소가 동일한 데이터 타입이어야 한다.\n",
    "        * 반면 파이썬 리스트는 다양한 데이터 타입을 혼합해서 저장할 수 있다.\n",
    "    * 빠른 연산 속도: C로 구성됨\n",
    "    * 메모리 효울성: 배열의 크기가 고정되어 있어 리스트보다 메모리를 효율적으로 사용한다.\n",
    "    * 다차원 배열: Numpy 배열은 1차원 벡터, 2차원 행렬, 다차원 텐서 등 다양한 차원의 데이터를 다룰 수 있다.\n",
    "    * 벡터화 연산 지원: 배열 연산은 반복문 없이 전체 배열에 대해 수학적 연산 수행가능.\n",
    "\n",
    "**<ndarray 생성 방법>**  \n",
    " * 함수 생성 방법\n",
    "\n",
    "   ```python\n",
    "   import numpy as np\n",
    "   arr = np.array([1, 2, 3, 4])  \n",
    "   \n",
    "   \n",
    "   ```\n",
    "   \n",
    " \n",
    " * 특정한 값을 가진 배열 생성\n",
    "\n",
    "   ```python\n",
    "   arr = np.zero(5) # 모든 크기가 0인 크기가 (5)인 배열\n",
    "   arr = np.ones((2, 3)) # 모든 값이 1인 크기가 2X3인 배열\n",
    "   full = np.full((3, 3), 7) #모든 값이 7인 크기가 3X3인 배열  \n",
    "   \n",
    "\n",
    "\n",
    "    ```\n",
    "\n",
    "* 연속된 값을 가진 배열 생성\n",
    "\n",
    "    * (1) arrange 함수: 특정 간격의 숫자 배열을 생성합니다. 파이썬의 range와 유사하지만 배열 형태로 반환\n",
    "      ``` python\n",
    "      np.arange(start, stop, step, dtype=None)  \n",
    "      \n",
    "\n",
    "      ```\n",
    "      ```python\n",
    "      arr1 = np.arange(5) # [0 1 2 3 4]\n",
    "      arr2 = np.arange(1, 10) # [1 2 3 4 5 6 7 8 9]\n",
    "      arr3 = np.arange(0, 10, 2) # [0 2 4 6 8]\n",
    "      arr4 = np.arange(0, 1, 0.2) # [0. 0.2 0.4 0.6 0.8]   \n",
    "      \n",
    "\n",
    "      ```\n",
    "* 다양한 함수를 이용하여 생성할 수 있음."
   ]
  },
  {
   "cell_type": "code",
   "execution_count": 12,
   "id": "e530e7fe-a7a5-47c4-8823-2d42407a9e34",
   "metadata": {},
   "outputs": [],
   "source": [
    "import numpy as np"
   ]
  },
  {
   "cell_type": "code",
   "execution_count": 16,
   "id": "7f731064-5e2b-4a78-a1dd-58315ee05f0a",
   "metadata": {},
   "outputs": [
    {
     "name": "stdout",
     "output_type": "stream",
     "text": [
      "리스트 연산 시간: 0.126908540725708\n",
      "Numpy 배열 연산 시간: 0.003026247024536133\n"
     ]
    }
   ],
   "source": [
    "import time\n",
    "\n",
    "# 리스트와 배열의 연산 속도 비교\n",
    "lst = list(range(1, 1000001))\n",
    "arr = np.array(lst)\n",
    "\n",
    "start_time = time.time()\n",
    "lst_result = [x * 2 for x in lst]\n",
    "print(\"리스트 연산 시간:\", time.time() - start_time)\n",
    "\n",
    "start_time = time.time()\n",
    "arr_result = arr * 2\n",
    "print(\"Numpy 배열 연산 시간:\", time.time() - start_time)\n",
    "\n",
    "#컴퓨터 환경에 따라 연산 시간이 달라져 결괏값도 달라진다."
   ]
  },
  {
   "cell_type": "code",
   "execution_count": 20,
   "id": "d3eb274f-c765-4d91-8afe-084a65e3c178",
   "metadata": {},
   "outputs": [
    {
     "data": {
      "text/plain": [
       "41.93594894823919"
      ]
     },
     "execution_count": 20,
     "metadata": {},
     "output_type": "execute_result"
    }
   ],
   "source": [
    "0.126908540725708/0.003026247024536133\n",
    "\n",
    "#41배나 빠른 것을 알 수 있다. (파이썬은 느리다.)"
   ]
  },
  {
   "cell_type": "code",
   "execution_count": 24,
   "id": "58d56b0d-9e47-4ec2-9732-25901be2242a",
   "metadata": {},
   "outputs": [
    {
     "name": "stdout",
     "output_type": "stream",
     "text": [
      "[10 20 30 40]\n",
      "[[1 2 3]\n",
      " [4 5 6]]\n"
     ]
    }
   ],
   "source": [
    "# 리스트로부터 배열 생성 \n",
    "\n",
    "arr_1d = np.array([10, 20, 30, 40])  # 1차원 배열\n",
    "arr_2d = np.array([[1, 2, 3], [4, 5, 6]])  # 2차원 배열\n",
    "\n",
    "print(arr_1d)\n",
    "print(arr_2d)\n",
    "\n",
    "# 2차원배열에서는 같은 위치에 있는 것이 열이 된다는 것을 알 수 있음"
   ]
  },
  {
   "cell_type": "code",
   "execution_count": 30,
   "id": "498806df-3ae1-42a2-aab1-c0b88e358b0d",
   "metadata": {},
   "outputs": [
    {
     "name": "stdout",
     "output_type": "stream",
     "text": [
      "[0. 0. 0. 0. 0.]\n",
      "[[0 0 0]\n",
      " [0 0 0]]\n"
     ]
    }
   ],
   "source": [
    "# 특정한 값으로 채원 배열 생성\n",
    "\n",
    "# 0으로 채워진 배열 생성\n",
    "arr_1d = np.zeros(5)  # 1차원 배열\n",
    "arr_2d = np.zeros((2, 3), dtype = int)  # 2차원 배열\n",
    "print(arr_1d)\n",
    "print(arr_2d)"
   ]
  },
  {
   "cell_type": "code",
   "execution_count": 32,
   "id": "ec663676-83e7-4910-958c-40401b35b303",
   "metadata": {},
   "outputs": [],
   "source": [
    "# 1차원에는 float자료형이어서 .이 찍혀있다."
   ]
  },
  {
   "cell_type": "code",
   "execution_count": 34,
   "id": "a6c9045b-6f7a-4f5a-8bfd-fa4722016450",
   "metadata": {},
   "outputs": [
    {
     "name": "stdout",
     "output_type": "stream",
     "text": [
      "[1. 1. 1. 1. 1.]\n",
      "[[1. 1. 1.]\n",
      " [1. 1. 1.]]\n"
     ]
    }
   ],
   "source": [
    "# 1으로 채워진 배열 생성\n",
    "arr_1d = np.ones(5)  # 1차원 배열\n",
    "arr_2d = np.ones((2, 3))  # 2차원 배열\n",
    "print(arr_1d)\n",
    "print(arr_2d)"
   ]
  },
  {
   "cell_type": "code",
   "execution_count": 36,
   "id": "686ca21f-10e0-4907-ba13-087eede6554f",
   "metadata": {},
   "outputs": [
    {
     "name": "stdout",
     "output_type": "stream",
     "text": [
      "[ 0  2  4  6  8 10]\n"
     ]
    }
   ],
   "source": [
    "# 연속죈 숫자로 구성된 배열 만들기\n",
    "\n",
    "arr = np.arange(0, 11, 2)  # 0부터 10까지 2 간격\n",
    "print(arr)"
   ]
  },
  {
   "cell_type": "code",
   "execution_count": 38,
   "id": "619a4fcd-c90f-41ee-8197-b2c54ed61eee",
   "metadata": {},
   "outputs": [
    {
     "name": "stdout",
     "output_type": "stream",
     "text": [
      "[ 0.   0.5  1.   1.5  2.   2.5  3.   3.5  4.   4.5  5.   5.5  6.   6.5\n",
      "  7.   7.5  8.   8.5  9.   9.5 10.  10.5]\n"
     ]
    }
   ],
   "source": [
    "arr = np.arange(0, 11, 0.5)  # 0부터 10.5까지 0.5 간격\n",
    "print(arr)"
   ]
  },
  {
   "cell_type": "code",
   "execution_count": 40,
   "id": "86a4857d-c07b-4cbd-aead-557a3c320553",
   "metadata": {},
   "outputs": [],
   "source": [
    "# 콤마가 없고 일정 간격으로 만들어지는 것을 볼 수 있음.\n",
    "# arange(시작, 끝(자신 미포함), 간격) 으로 이루어져 있으며 이는 슬라이싱과 비슷한 것으로 보임."
   ]
  },
  {
   "cell_type": "code",
   "execution_count": 44,
   "id": "0a2be622-30d2-4f72-a81e-91d9812a2c7f",
   "metadata": {},
   "outputs": [
    {
     "name": "stdout",
     "output_type": "stream",
     "text": [
      "[0.   0.25 0.5  0.75 1.  ]\n"
     ]
    }
   ],
   "source": [
    "arr = np.linspace(0, 1, 5)\n",
    "print(arr)"
   ]
  },
  {
   "cell_type": "code",
   "execution_count": 46,
   "id": "8d7f8951-d931-4583-a9ed-c6f403a101f2",
   "metadata": {},
   "outputs": [],
   "source": [
    "#linspace(시작, 끝, 개수) 인데, 간격을 생각해서 리스트 원소의 개수를 정해야 한다.\n",
    "# 되도록이면 arange()에 익숙해지는 것이 좋다고 한다."
   ]
  },
  {
   "cell_type": "code",
   "execution_count": 42,
   "id": "15f365e4-796c-4a09-ba2b-78ebfaedd8e6",
   "metadata": {},
   "outputs": [
    {
     "name": "stdout",
     "output_type": "stream",
     "text": [
      "[0.         0.11111111 0.22222222 0.33333333 0.44444444 0.55555556\n",
      " 0.66666667 0.77777778 0.88888889 1.        ]\n"
     ]
    }
   ],
   "source": [
    "arr = np.linspace(0, 1, 10) # 간격을 잘 정해야 하는 이유\n",
    "print(arr)"
   ]
  },
  {
   "cell_type": "code",
   "execution_count": 48,
   "id": "c318a2a9-8b7e-4be6-ab32-88fa5c0f2acf",
   "metadata": {},
   "outputs": [],
   "source": [
    "# 위와 같이 값이 나올 수 있으니 주의하자."
   ]
  },
  {
   "cell_type": "markdown",
   "id": "e98710c5-7a16-4bdd-b2b5-7dd9ff9a5d45",
   "metadata": {},
   "source": [
    "# **차원**"
   ]
  },
  {
   "cell_type": "markdown",
   "id": "8ac898f4-9908-4b5a-84b1-a96b0f9fb891",
   "metadata": {},
   "source": [
    "* 차원은 배열에서 데이터가 배열된 축(axis)의 개수를 말한다.\n",
    " * 1차원 배열 = 벡터 : 단일 축으로 구성된 배열 ([1, 2, 3])\n",
    " * 2차원 배열 = 행렬 : 행과 열로 구성된 배열 (우리가 아는 2차원 배열)\n",
    " * 3차원 배열 = 텐서 : 2차원 배열이 레이어처럼 여러개로 겹쳐 있다\n",
    "     * (사진 처리할때의 RGB값을 나타낼때 쓰임. 텐서 하나가 픽셀이 됨.)\n",
    " * ndim : 배열의 차원을 확인하는 함수\n",
    " * shape :  배열의 모양을 확인하는 함수\n",
    "\n",
    "\n",
    " ## **축(axis)**  \n",
    " : 매우 중요함!  \n",
    " * 2차원 배열을 기준으로 axis = 0은 행을, axis = 1은 열을 나타낸다.\n",
    "     * 주로 연산 방향을 나타낸다.  (예: axis = 1로 설정하고 각 열의 평균을 구하기 등)\n",
    "\n",
    " ### **차원 변경 함수**  \n",
    " : reshape, flatten, squeeze 등의 함수를 이용하여 차원을 변경할 수 있다.  \n",
    " * arr.reshape(newshape): arr의 차원을 newshape로 변경함\n",
    "     * 단, 기존 차원에서 변경할 수 있는 shape여야 함\n",
    " * flatten 함수: 다차원 배열을 1차원으로 평탄화 하는데 사용 ((3, 4)를 (12, ) 로 변환)\n",
    " * squeeze 함수: 크기가 1인 차원을 제거 (예: (1, 3, 1)인 배열이 있다면 (3, )으로 변환)\n",
    "\n",
    " \n",
    " "
   ]
  },
  {
   "cell_type": "code",
   "execution_count": 52,
   "id": "195a6a48-5a49-4e19-8e59-20c996d699e3",
   "metadata": {},
   "outputs": [
    {
     "name": "stdout",
     "output_type": "stream",
     "text": [
      "차원: 1\n",
      "형태: (5,)\n"
     ]
    }
   ],
   "source": [
    "# 차원 형태 확인 \n",
    "arr1 = np.array([1, 2, 3, 4, 5])\n",
    "print(\"차원:\", arr1.ndim)\n",
    "print(\"형태:\", arr1.shape)\n",
    "\n",
    "# (5, ) = 튜플 (크기가 1인 튜플; 콤마(,) 포함)\n"
   ]
  },
  {
   "cell_type": "code",
   "execution_count": 54,
   "id": "c9dce2f5-8adb-4b05-851a-cb4e59ed3871",
   "metadata": {},
   "outputs": [
    {
     "name": "stdout",
     "output_type": "stream",
     "text": [
      "차원: 2\n",
      "형태: (2, 3)\n"
     ]
    }
   ],
   "source": [
    "# 2. 2차원 배열 생성\n",
    "arr2 = np.array([[1, 2, 3], [4, 5, 6]])\n",
    "print(\"차원:\", arr2.ndim)\n",
    "print(\"형태:\", arr2.shape)"
   ]
  },
  {
   "cell_type": "code",
   "execution_count": 60,
   "id": "717f249d-50c5-4e96-a574-76d10854c0c8",
   "metadata": {},
   "outputs": [
    {
     "data": {
      "text/plain": [
       "2"
      ]
     },
     "execution_count": 60,
     "metadata": {},
     "output_type": "execute_result"
    }
   ],
   "source": [
    "len(arr2.shape) # 차원은 이렇게 구할 수도 있다. len()을 쓰면 차원만 나오게 됨."
   ]
  },
  {
   "cell_type": "code",
   "execution_count": 58,
   "id": "21ec9093-28ad-42ab-bf07-9b6532dba5c9",
   "metadata": {},
   "outputs": [
    {
     "name": "stdout",
     "output_type": "stream",
     "text": [
      "[[[1 2]\n",
      "  [3 4]]\n",
      "\n",
      " [[5 6]\n",
      "  [7 8]]]\n",
      "차원: 3\n",
      "형태: (2, 2, 2)\n"
     ]
    }
   ],
   "source": [
    "# 3. 3차원 배열 생성\n",
    "arr3 = np.array([[[1, 2], [3, 4]], [[5, 6], [7, 8]]])\n",
    "print(arr3)\n",
    "print(\"차원:\", arr3.ndim)\n",
    "print(\"형태:\", arr3.shape)"
   ]
  },
  {
   "cell_type": "code",
   "execution_count": 64,
   "id": "b17229ef-60b7-4823-acec-f8df7e3b2a31",
   "metadata": {},
   "outputs": [
    {
     "name": "stdout",
     "output_type": "stream",
     "text": [
      "[1 2 3 4 5 6]\n",
      "[[1 2 3]\n",
      " [4 5 6]]\n"
     ]
    }
   ],
   "source": [
    "# 차원 변경 reshape(행, 열) 사용\n",
    "\n",
    "arr = np.array([1, 2, 3, 4, 5, 6]) # (6,)\n",
    "reshaped = arr.reshape(2, 3)  # 2행 3열로 변환\n",
    "print(arr)\n",
    "print(reshaped)"
   ]
  },
  {
   "cell_type": "code",
   "execution_count": 66,
   "id": "635b7fe7-f062-40d4-9a42-b1cd1bcff99c",
   "metadata": {},
   "outputs": [
    {
     "ename": "ValueError",
     "evalue": "cannot reshape array of size 6 into shape (4,2)",
     "output_type": "error",
     "traceback": [
      "\u001b[1;31m---------------------------------------------------------------------------\u001b[0m",
      "\u001b[1;31mValueError\u001b[0m                                Traceback (most recent call last)",
      "Cell \u001b[1;32mIn[66], line 1\u001b[0m\n\u001b[1;32m----> 1\u001b[0m reshaped \u001b[38;5;241m=\u001b[39m arr\u001b[38;5;241m.\u001b[39mreshape(\u001b[38;5;241m4\u001b[39m, \u001b[38;5;241m2\u001b[39m)  \u001b[38;5;66;03m# 4행 2열로는 바꿀 수 없음\u001b[39;00m\n\u001b[0;32m      2\u001b[0m \u001b[38;5;28mprint\u001b[39m(reshaped)\n",
      "\u001b[1;31mValueError\u001b[0m: cannot reshape array of size 6 into shape (4,2)"
     ]
    }
   ],
   "source": [
    "reshaped = arr.reshape(4, 2)  # 4행 2열로는 바꿀 수 없음\n",
    "print(reshaped)"
   ]
  },
  {
   "cell_type": "code",
   "execution_count": 68,
   "id": "ff3cb6c7-c57b-4ff2-b5fe-70c97291a321",
   "metadata": {},
   "outputs": [],
   "source": [
    "# 왜? 4행 2열로 하려면 원소가 8개 필요한데 부족하기 때문이다.\n",
    "# 그러나 하나하나 원소 개수를 세고 있을 수는 없다. 그렇다면?"
   ]
  },
  {
   "cell_type": "code",
   "execution_count": 70,
   "id": "976c77e7-94c3-472a-be8c-a26b456023e8",
   "metadata": {},
   "outputs": [
    {
     "name": "stdout",
     "output_type": "stream",
     "text": [
      "[[1 2]\n",
      " [3 4]\n",
      " [5 6]]\n"
     ]
    }
   ],
   "source": [
    "reshaped = arr.reshape(-1, 2)  # -1을 넣으면 나머지 차원에 맞게 변환됨\n",
    "print(reshaped)"
   ]
  },
  {
   "cell_type": "code",
   "execution_count": 72,
   "id": "d618b191-f5d7-47f4-87a4-f0fbd486f51a",
   "metadata": {},
   "outputs": [
    {
     "name": "stdout",
     "output_type": "stream",
     "text": [
      "[[1 2]\n",
      " [3 4]\n",
      " [5 6]]\n",
      "[1 2 3 4 5 6]\n"
     ]
    }
   ],
   "source": [
    "# 다시 펼치기 flatten()\n",
    "\n",
    "flattened = reshaped.flatten()\n",
    "print(reshaped)\n",
    "print(flattened)"
   ]
  },
  {
   "cell_type": "code",
   "execution_count": 74,
   "id": "c8c29f8a-3e1e-498e-90c8-ae0f4c7a4f8f",
   "metadata": {},
   "outputs": [
    {
     "name": "stdout",
     "output_type": "stream",
     "text": [
      "(2, 2, 1)\n",
      "[[[1]\n",
      "  [2]]\n",
      "\n",
      " [[3]\n",
      "  [4]]]\n",
      "squeeze 후:\n",
      " [[1 2]\n",
      " [3 4]] (2, 2)\n"
     ]
    }
   ],
   "source": [
    "arr = np.array([[[1], [2]], [[3], [4]]])  # (2, 2, 1) 형태\n",
    "print(arr.shape)\n",
    "print(arr)\n",
    "squeezed = np.squeeze(arr)  # 크기가 1인 축 제거\n",
    "print(\"squeeze 후:\\n\", squeezed, squeezed.shape)"
   ]
  },
  {
   "cell_type": "markdown",
   "id": "3a64e2dd-4763-454f-ab39-4c59399742f8",
   "metadata": {},
   "source": [
    "### **유니버셜 함수**\n",
    " 유니버셜 함수는 요소별 연산을 수행한다.   \n",
    " 기본적인 산술 연산부터 삼각 함수, 지수 함수 등 다양한 수학 연산을 지원한다.  \n",
    "   * 산술 연산, 거듭 제곱 등..."
   ]
  },
  {
   "cell_type": "code",
   "execution_count": 91,
   "id": "97190576-d3f0-4e9f-a069-2ddba9bc2e1a",
   "metadata": {},
   "outputs": [
    {
     "name": "stdout",
     "output_type": "stream",
     "text": [
      "[0 0 0]\n",
      "[2 4 6]\n",
      "[-1 -4 -9]\n",
      "[-1. -1. -1.]\n"
     ]
    }
   ],
   "source": [
    "# 배열 간 사칙연산\n",
    "\n",
    "arr1 = np.array([1,2,3])\n",
    "arr2 = np.array([-1,-2,-3])\n",
    "\n",
    "print(np.add(arr1, arr2))\n",
    "print(np.subtract(arr1, arr2))\n",
    "print(np.multiply(arr1, arr2))\n",
    "print(np.divide(arr1, arr2))"
   ]
  },
  {
   "cell_type": "code",
   "execution_count": 93,
   "id": "1221d75f-37ac-41f6-812f-3a6c806a5ac2",
   "metadata": {},
   "outputs": [
    {
     "name": "stdout",
     "output_type": "stream",
     "text": [
      "[0 0 0]\n",
      "[2 4 6]\n",
      "[-1 -4 -9]\n",
      "[-1. -1. -1.]\n"
     ]
    }
   ],
   "source": [
    "# 이렇게 할 수도 있다. 훨씬 편리하다.\n",
    "\n",
    "print(arr1 + arr2)\n",
    "print(arr1 - arr2)\n",
    "print(arr1 * arr2)\n",
    "print(arr1 / arr2)"
   ]
  },
  {
   "cell_type": "code",
   "execution_count": 188,
   "id": "2fcb91b2-0975-4913-bd56-d42ace0deb7b",
   "metadata": {},
   "outputs": [
    {
     "name": "stdout",
     "output_type": "stream",
     "text": [
      "[[1.        ]\n",
      " [1.41421356]\n",
      " [1.73205081]]\n",
      "[[ 2.71828183  7.3890561  20.08553692]]\n",
      "[[0.        ]\n",
      " [0.69314718]\n",
      " [1.09861229]]\n",
      "[[0.        ]\n",
      " [0.30103   ]\n",
      " [0.47712125]]\n",
      "[[1 2 3]]\n"
     ]
    }
   ],
   "source": [
    "# 지수, 로그, 제곱근, 절댓값\n",
    "\n",
    "print(np.sqrt(arr1))  # 제곱근\n",
    "print(np.exp(arr2))  # 지수 \n",
    "print(np.log(arr1))  # 로그 \n",
    "print(np.log10(arr1))  # 로그\n",
    "print(np.abs(arr2))  #절댓값"
   ]
  },
  {
   "cell_type": "markdown",
   "id": "797714bf-b111-4f93-949b-22265bf747e2",
   "metadata": {},
   "source": [
    "### **브로드캐스팅**\n",
    " 브로드캐스팅은 서로 다른 크기의 배열 간 연산을 가능하게 한다.  \n",
    " 작은 배열이 자동으로 확자오디어 큰 배열과 동일한 형태로 변환된 후 연산이 수행된다.  \n",
    "  * (3,)과 (1,)을 합치면 (3,)이 된다.\n",
    "  * (1, 3)과 (3, 1)을 합친다면? (3, 3)이 된다. 즉, **더 큰쪽이 있으면 그것을 기준으로 작은 쪽을 늘린다!**  "
   ]
  },
  {
   "cell_type": "code",
   "execution_count": null,
   "id": "75d48166-0536-4183-bdc1-b8ea08e37dbe",
   "metadata": {},
   "outputs": [],
   "source": [
    "# 스칼라 * 배열\n",
    "\n",
    "arr1 = np.array([1,2,3])\n",
    "arr2 = np.ones((3,3))\n",
    "\n",
    "display(arr1) # display: Jupyter Notebook에서 데이터를 원본에 가깝게 출력하는데 사용\n",
    "display(arr2)"
   ]
  },
  {
   "cell_type": "code",
   "execution_count": 106,
   "id": "2cc05fa0-230f-4ad3-8f42-a063c2e310d0",
   "metadata": {},
   "outputs": [
    {
     "data": {
      "text/plain": [
       "array([[[1],\n",
       "        [2]],\n",
       "\n",
       "       [[3],\n",
       "        [4]]])"
      ]
     },
     "execution_count": 106,
     "metadata": {},
     "output_type": "execute_result"
    }
   ],
   "source": [
    " arr"
   ]
  },
  {
   "cell_type": "code",
   "execution_count": null,
   "id": "04ee0478-c497-4f2b-ac9c-c5635e256eb6",
   "metadata": {},
   "outputs": [],
   "source": [
    "# 이렇게 나오는 것도 디스플레이로 나오는 것이다."
   ]
  },
  {
   "cell_type": "code",
   "execution_count": 108,
   "id": "ab989071-4dc6-46ab-b1ef-17f4839b8b4e",
   "metadata": {},
   "outputs": [
    {
     "name": "stdout",
     "output_type": "stream",
     "text": [
      "[[[1]\n",
      "  [2]]\n",
      "\n",
      " [[3]\n",
      "  [4]]]\n"
     ]
    }
   ],
   "source": [
    "print(arr)"
   ]
  },
  {
   "cell_type": "code",
   "execution_count": 110,
   "id": "e2035615-38a0-48ee-b4e4-149565fde6c8",
   "metadata": {},
   "outputs": [
    {
     "data": {
      "text/plain": [
       "array([10, 20, 30])"
      ]
     },
     "metadata": {},
     "output_type": "display_data"
    },
    {
     "data": {
      "text/plain": [
       "array([-2, -3, -4])"
      ]
     },
     "metadata": {},
     "output_type": "display_data"
    }
   ],
   "source": [
    "display(arr1 * 10)\n",
    "display(arr2 - 1)"
   ]
  },
  {
   "cell_type": "code",
   "execution_count": 112,
   "id": "ba3a099c-6031-41f9-9237-8958047cdcc2",
   "metadata": {},
   "outputs": [
    {
     "data": {
      "text/plain": [
       "array([1, 2, 3])"
      ]
     },
     "metadata": {},
     "output_type": "display_data"
    },
    {
     "data": {
      "text/plain": [
       "array([[1., 1., 1.],\n",
       "       [1., 1., 1.],\n",
       "       [1., 1., 1.]])"
      ]
     },
     "metadata": {},
     "output_type": "display_data"
    }
   ],
   "source": [
    "# 배열과 배열 합치기\n",
    "\n",
    "arr1 = np.array([1,2,3])\n",
    "arr2 = np.ones((3,3))\n",
    "display(arr1)\n",
    "display(arr2)"
   ]
  },
  {
   "cell_type": "code",
   "execution_count": 114,
   "id": "f4e8ded0-570e-4325-9bd8-ecb373101432",
   "metadata": {},
   "outputs": [
    {
     "data": {
      "text/plain": [
       "array([[2., 3., 4.],\n",
       "       [2., 3., 4.],\n",
       "       [2., 3., 4.]])"
      ]
     },
     "metadata": {},
     "output_type": "display_data"
    }
   ],
   "source": [
    "display(arr1 + arr2)"
   ]
  },
  {
   "cell_type": "code",
   "execution_count": 116,
   "id": "6e34baf0-ebde-49dc-afae-b1c8bf77c8af",
   "metadata": {},
   "outputs": [
    {
     "data": {
      "text/plain": [
       "array([[1],\n",
       "       [2],\n",
       "       [3]])"
      ]
     },
     "metadata": {},
     "output_type": "display_data"
    },
    {
     "data": {
      "text/plain": [
       "array([[1., 1., 1.],\n",
       "       [1., 1., 1.],\n",
       "       [1., 1., 1.]])"
      ]
     },
     "metadata": {},
     "output_type": "display_data"
    },
    {
     "data": {
      "text/plain": [
       "array([[2., 2., 2.],\n",
       "       [3., 3., 3.],\n",
       "       [4., 4., 4.]])"
      ]
     },
     "metadata": {},
     "output_type": "display_data"
    }
   ],
   "source": [
    "arr1 = np.array([1,2,3]).reshape(-1, 1)\n",
    "arr2 = np.ones((3,3))\n",
    "display(arr1)\n",
    "display(arr2)\n",
    "display(arr1 + arr2)"
   ]
  },
  {
   "cell_type": "code",
   "execution_count": 118,
   "id": "fd4c7f7b-6a37-4fcc-a5c9-7c10cfb92232",
   "metadata": {},
   "outputs": [
    {
     "data": {
      "text/plain": [
       "array([[1],\n",
       "       [2],\n",
       "       [3]])"
      ]
     },
     "metadata": {},
     "output_type": "display_data"
    },
    {
     "data": {
      "text/plain": [
       "array([[1, 2, 3]])"
      ]
     },
     "metadata": {},
     "output_type": "display_data"
    }
   ],
   "source": [
    "arr1 = np.array([1,2,3]).reshape(-1, 1)\n",
    "arr2 = np.array([1,2,3]).reshape(1, -1)\n",
    "display(arr1)\n",
    "display(arr2)\n",
    "#display(arr1 + arr2)"
   ]
  },
  {
   "cell_type": "code",
   "execution_count": 120,
   "id": "dfc01b7e-bb11-42e4-81bc-4b497194479a",
   "metadata": {},
   "outputs": [
    {
     "data": {
      "text/plain": [
       "array([[2, 3, 4],\n",
       "       [3, 4, 5],\n",
       "       [4, 5, 6]])"
      ]
     },
     "metadata": {},
     "output_type": "display_data"
    }
   ],
   "source": [
    "display(arr1 + arr2)"
   ]
  },
  {
   "cell_type": "markdown",
   "id": "1910431e-a507-4230-b6e5-4f2ad4fc7d2b",
   "metadata": {},
   "source": [
    "### **통계 함수**\n",
    "  Numpy는 다양한 통계 함수 및 메서드를 제공한다."
   ]
  },
  {
   "cell_type": "code",
   "execution_count": 122,
   "id": "bb1bf020-f91b-4b8c-b1b8-906706552c38",
   "metadata": {},
   "outputs": [
    {
     "data": {
      "text/plain": [
       "array([[10, 20, 30],\n",
       "       [40, 50, 60]])"
      ]
     },
     "metadata": {},
     "output_type": "display_data"
    }
   ],
   "source": [
    "arr = np.array([[10, 20, 30], [40, 50, 60]])\n",
    "display(arr)"
   ]
  },
  {
   "cell_type": "code",
   "execution_count": 124,
   "id": "ad35c60a-e077-4338-a2de-e182df1af438",
   "metadata": {},
   "outputs": [
    {
     "name": "stdout",
     "output_type": "stream",
     "text": [
      "35.0\n",
      "[25. 35. 45.]\n",
      "[20. 50.]\n"
     ]
    }
   ],
   "source": [
    "print(np.mean(arr))\n",
    "print(np.mean(arr, axis = 0))\n",
    "print(np.mean(arr, axis = 1))"
   ]
  },
  {
   "cell_type": "code",
   "execution_count": 126,
   "id": "bd7b9d72-70af-491d-ba97-9dd96e9f562e",
   "metadata": {},
   "outputs": [
    {
     "name": "stdout",
     "output_type": "stream",
     "text": [
      "17.07825127659933\n",
      "[15. 15. 15.]\n",
      "[8.16496581 8.16496581]\n"
     ]
    }
   ],
   "source": [
    "print(np.std(arr))\n",
    "print(np.std(arr, axis = 0))\n",
    "print(np.std(arr, axis = 1))"
   ]
  },
  {
   "cell_type": "code",
   "execution_count": 128,
   "id": "b2228d81-910a-4443-9bb1-ead4224fc1f7",
   "metadata": {},
   "outputs": [
    {
     "name": "stdout",
     "output_type": "stream",
     "text": [
      "35.0\n",
      "[25. 35. 45.]\n",
      "[20. 50.]\n"
     ]
    }
   ],
   "source": [
    "print(np.median(arr))\n",
    "print(np.median(arr, axis = 0))\n",
    "print(np.median(arr, axis = 1))"
   ]
  },
  {
   "cell_type": "code",
   "execution_count": 130,
   "id": "d9a63826-687e-4047-9715-56d2426ec6a4",
   "metadata": {},
   "outputs": [
    {
     "name": "stdout",
     "output_type": "stream",
     "text": [
      "35.0\n",
      "[25. 35. 45.]\n",
      "[20. 50.]\n"
     ]
    }
   ],
   "source": [
    "# 메서드 활용 - 축을 기준으로 평균을 구함.\n",
    "print(arr.mean())\n",
    "print(arr.mean(axis = 0))\n",
    "print(arr.mean(axis = 1))"
   ]
  },
  {
   "cell_type": "code",
   "execution_count": 132,
   "id": "e7224eaf-7e86-4a4d-9777-7ffde2f5b64d",
   "metadata": {},
   "outputs": [
    {
     "name": "stdout",
     "output_type": "stream",
     "text": [
      "2.0\n"
     ]
    }
   ],
   "source": [
    "# ndarray가 아니여도 함수를 쓸 수 있습니다.\n",
    "L = [1,2,3]\n",
    "print(np.mean(L))"
   ]
  },
  {
   "cell_type": "markdown",
   "id": "416f5e90-276a-4292-ad98-0eb6435e4328",
   "metadata": {},
   "source": [
    "## **인덱싱과 슬라이싱**\n",
    "  일반적인 경우에는 파이썬의 기본 인덱싱 및 슬라이싱과 같다.\n",
    "   * 1차원 : 같음\n",
    "   * 2차원 : [row_idx, col_idx] 형태로 행과 열 인덱스를 따로 접근한다.\n",
    "   * 2차원 이상 : 각 차원을 ' , '로 구분하여 접근한다.\n",
    "       * 3차원 : [idx1, idx2, idx3]"
   ]
  },
  {
   "cell_type": "markdown",
   "id": "14bab0fc-de77-45c4-8a59-61e66dab6261",
   "metadata": {},
   "source": [
    "### 1차원 배열\n",
    "\n"
   ]
  },
  {
   "cell_type": "code",
   "execution_count": 152,
   "id": "0a3a6186-45ee-4c74-af98-1dc1d8c48266",
   "metadata": {},
   "outputs": [
    {
     "name": "stdout",
     "output_type": "stream",
     "text": [
      "10\n",
      "50\n",
      "[20 30 40]\n",
      "[10 20 30 40]\n",
      "[30 40 50]\n"
     ]
    }
   ],
   "source": [
    "arr = np.array([10, 20, 30, 40, 50])\n",
    "\n",
    "# 기본 인덱싱\n",
    "print(arr[0])  # 첫 번째 요소: 10\n",
    "print(arr[-1])  # 마지막 요소: 50\n",
    "\n",
    "# 슬라이싱: 1번 인덱스부터 3번 인덱스까지\n",
    "print(arr[1:4])  # [20 30 40]\n",
    "\n",
    "# 슬라이싱: 처음부터 3번 인덱스까지\n",
    "print(arr[:4])  # [10 20 30 40]\n",
    "\n",
    "# 슬라이싱: 2번 인덱스부터 끝까지\n",
    "print(arr[2:])  # [30 40 50]"
   ]
  },
  {
   "cell_type": "markdown",
   "id": "842340b1-32be-412b-8b21-5ff204e9d3a2",
   "metadata": {},
   "source": [
    "### 2차원 배열"
   ]
  },
  {
   "cell_type": "code",
   "execution_count": 154,
   "id": "aec755c3-680c-4f87-81d0-4000d0181f9c",
   "metadata": {},
   "outputs": [
    {
     "name": "stdout",
     "output_type": "stream",
     "text": [
      "2\n",
      "2\n",
      "[[4 5]\n",
      " [7 8]]\n",
      "[5 8]\n"
     ]
    }
   ],
   "source": [
    "arr_2d = np.array([[1, 2, 3], [4, 5, 6], [7, 8, 9]])\n",
    "\n",
    "# 기본 인덱싱: 첫 번째 행, 두 번째 열\n",
    "print(arr_2d[0, 1])  # np.array는 한번에 두 개 쓸 수 있다.\n",
    "print(arr_2d[0][1])  # 리스트는 이렇게 두 번 써야한다\n",
    "\n",
    "# 슬라이싱: 두 번째 행부터 끝까지, 첫 번째 열부터 두 번째 열까지\n",
    "print(arr_2d[1:, :2]) # 슬라이싱도 한번에 가능\n",
    "\n",
    "# 인덱싱과 슬라이싱 혼합\n",
    "print(arr_2d[1:, 1]) # 혼합도 가능"
   ]
  },
  {
   "cell_type": "markdown",
   "id": "ebb1c820-56d8-4bfb-bbc2-de48316ddd0c",
   "metadata": {},
   "source": [
    "## **팬시 인덱싱**\n",
    "\n",
    "  팬시 인덱싱을 활용하면 여러 인덱스를 한 번에 지정하여 데이터를 선택할 수 있다.\n",
    "   * 인덱스로 리스트를 사용한다.\n",
    "   * [row_idx, col_idx] 각각에 대응대는 값을 가져온다.\n",
    "    "
   ]
  },
  {
   "cell_type": "markdown",
   "id": "224caa16-ccc8-4220-938a-2c4f76c8c234",
   "metadata": {},
   "source": [
    "### 1차원 배열"
   ]
  },
  {
   "cell_type": "code",
   "execution_count": 156,
   "id": "2f9f5fc9-a458-4d95-8027-e2de30b2f9e2",
   "metadata": {},
   "outputs": [
    {
     "name": "stdout",
     "output_type": "stream",
     "text": [
      "[10 30 50]\n",
      "[20 40]\n"
     ]
    }
   ],
   "source": [
    "arr = np.array([10, 20, 30, 40, 50])\n",
    "print(arr[[0, 2, 4]]) # 주의: 인덱스를 리스트 형태로 갖고 있는 것임\n",
    "indices = [1, 3]\n",
    "print(arr[indices])"
   ]
  },
  {
   "cell_type": "markdown",
   "id": "433fbaab-2014-47d4-b8e6-dd6e3ee60256",
   "metadata": {},
   "source": [
    "### 2차원 배열"
   ]
  },
  {
   "cell_type": "code",
   "execution_count": 220,
   "id": "d3e3707d-ea39-4a66-a1ad-4cfc1873b1ac",
   "metadata": {},
   "outputs": [
    {
     "name": "stdout",
     "output_type": "stream",
     "text": [
      "[2 9]\n",
      "[1 6]\n",
      "[[1 2 3]\n",
      " [4 5 6]]\n"
     ]
    }
   ],
   "source": [
    "arr_2d = np.array([[1, 2, 3],\n",
    "                   [4, 5, 6],\n",
    "                   [7, 8, 9]])\n",
    "\n",
    "# 여러 행, 여러 열을 한 번에 선택할 수 있다\n",
    "print(arr_2d[[0, 2], [1, 2]])  \n",
    "# [2 9] (1번째 행, 2번째 열; 2번째 행, 3번째 열)\n",
    "# [] 괄호 하나가 2의 (행, 열)을 뜻하는게 아니다.\n",
    "# [a, b] [c, d] 이렇게 있으면 왼쪽에 있는 숫자(a, c)들이 왼쪽 숫자의 좌표를 뜻한다. 헷갈리지 말자.\n",
    "\n",
    "# 특정 행을 선택하고, 각 행에서 여러 열 선택하기\n",
    "print(arr_2d[[0, 1], [0, 2]])\n",
    "\n",
    "# 2차원에서의 인덱싱과 슬라이싱 혼합 \n",
    "print(arr_2d[[0,1], :]) #:만 쓰면 해당 차원에서는 모든 데이터를 가져온다고 할 수 있음"
   ]
  },
  {
   "cell_type": "markdown",
   "id": "fe3d4033-6a16-49a0-924c-1fcb24b940b1",
   "metadata": {},
   "source": [
    "## **비교 연산과 마스킹** \n",
    "  부울 배열을 이용하여 인덱싱을 하는 방법이다.\n",
    "   * 같은 위치에 있는 인덱스 중에서 True인 요소만 가져온다.\n",
    "   * 부울 배열은 비교 연산을 통해 생성하며, 유니버셜 함수를 지원한다."
   ]
  },
  {
   "cell_type": "markdown",
   "id": "e54cea0a-dced-4c57-b5ec-258ea112df2b",
   "metadata": {},
   "source": [
    "### 1차원 배열"
   ]
  },
  {
   "cell_type": "code",
   "execution_count": 160,
   "id": "cc708009-6278-42a2-ad1a-7da1ebb4f9d5",
   "metadata": {},
   "outputs": [
    {
     "name": "stdout",
     "output_type": "stream",
     "text": [
      "[False False  True  True  True]\n"
     ]
    }
   ],
   "source": [
    "arr = np.array([10, 20, 30, 40, 50])\n",
    "\n",
    "# 조건: 값이 30 이상인 요소 선택\n",
    "mask = arr >= 30 # 이게 마스크의 조건\n",
    "print(mask)  # [False False  True  True  True]"
   ]
  },
  {
   "cell_type": "code",
   "execution_count": 164,
   "id": "a7cb5973-23e9-40fc-aa4a-dd817735c41f",
   "metadata": {},
   "outputs": [
    {
     "name": "stdout",
     "output_type": "stream",
     "text": [
      "[30 40 50]\n"
     ]
    }
   ],
   "source": [
    "print(arr[mask])  #  마스크 씌우기"
   ]
  },
  {
   "cell_type": "code",
   "execution_count": 166,
   "id": "341b6b9f-e483-4662-b95b-4d5f4b6d41f2",
   "metadata": {},
   "outputs": [],
   "source": [
    "# 30 이상인 수만 선택되었다."
   ]
  },
  {
   "cell_type": "code",
   "execution_count": 172,
   "id": "ed22673c-4da2-4438-b6f8-f70defbf0b98",
   "metadata": {},
   "outputs": [
    {
     "name": "stdout",
     "output_type": "stream",
     "text": [
      "3\n"
     ]
    }
   ],
   "source": [
    "print(mask.sum()) # True인 요소 개수. len이 아니라 sum으로 구함 주의."
   ]
  },
  {
   "cell_type": "code",
   "execution_count": 178,
   "id": "50858f0a-7273-4e5a-9f32-905db3586564",
   "metadata": {},
   "outputs": [
    {
     "name": "stdout",
     "output_type": "stream",
     "text": [
      "[20 30 40]\n"
     ]
    }
   ],
   "source": [
    "# 조건: 값이 20 이상 40 이하인 요소 선택\n",
    "# 이건 쉬워 보여서 직접 풀기로 한다.\n",
    "mask = (arr >= 20) & (arr <= 40)\n",
    "print(arr[mask])\n",
    "\n",
    "# 20 < x < 40 처럼 한꺼번에 적으면 에러가 난다. 주의!"
   ]
  },
  {
   "cell_type": "markdown",
   "id": "54b9f2d9-01ee-4038-bbae-601823750e62",
   "metadata": {},
   "source": [
    "### 2차원 배열"
   ]
  },
  {
   "cell_type": "code",
   "execution_count": 180,
   "id": "942e4cc6-5e62-42bd-adef-83f31372225f",
   "metadata": {},
   "outputs": [
    {
     "name": "stdout",
     "output_type": "stream",
     "text": [
      "[[False False False]\n",
      " [False  True  True]\n",
      " [ True  True  True]]\n"
     ]
    }
   ],
   "source": [
    "arr_2d = np.array([[1, 2, 3], [4, 5, 6], [7, 8, 9]])\n",
    "\n",
    "# 조건: 값이 5 이상인 요소 선택\n",
    "mask = arr_2d >= 5\n",
    "print(mask)"
   ]
  },
  {
   "cell_type": "code",
   "execution_count": 182,
   "id": "b1248390-8ceb-4508-bc63-da9484727197",
   "metadata": {},
   "outputs": [
    {
     "name": "stdout",
     "output_type": "stream",
     "text": [
      "[5 6 7 8 9]\n"
     ]
    }
   ],
   "source": [
    "print(arr_2d[mask])"
   ]
  },
  {
   "cell_type": "code",
   "execution_count": 184,
   "id": "af4e63f1-bb69-4392-918b-676b44083276",
   "metadata": {},
   "outputs": [
    {
     "name": "stdout",
     "output_type": "stream",
     "text": [
      "[[1 2 3]\n",
      " [0 0 0]\n",
      " [0 0 0]]\n"
     ]
    }
   ],
   "source": [
    "# 조건: 값이 4 이상인 요소를 0으로 변경\n",
    "arr_2d[arr_2d >= 4] = 0 # arr[mask] = 바꿀 값\n",
    "print(arr_2d)"
   ]
  }
 ],
 "metadata": {
  "kernelspec": {
   "display_name": "Python 3 (ipykernel)",
   "language": "python",
   "name": "python3"
  },
  "language_info": {
   "codemirror_mode": {
    "name": "ipython",
    "version": 3
   },
   "file_extension": ".py",
   "mimetype": "text/x-python",
   "name": "python",
   "nbconvert_exporter": "python",
   "pygments_lexer": "ipython3",
   "version": "3.11.7"
  }
 },
 "nbformat": 4,
 "nbformat_minor": 5
}
